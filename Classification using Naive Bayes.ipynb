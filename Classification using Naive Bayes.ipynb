{
 "cells": [
  {
   "cell_type": "code",
   "execution_count": 1,
   "metadata": {},
   "outputs": [],
   "source": [
    "from sklearn.datasets import load_iris"
   ]
  },
  {
   "cell_type": "code",
   "execution_count": 2,
   "metadata": {},
   "outputs": [
    {
     "data": {
      "text/plain": [
       "sklearn.utils.Bunch"
      ]
     },
     "execution_count": 2,
     "metadata": {},
     "output_type": "execute_result"
    }
   ],
   "source": [
    "iris = load_iris()\n",
    "type(iris)\n"
   ]
  },
  {
   "cell_type": "code",
   "execution_count": 3,
   "metadata": {},
   "outputs": [
    {
     "data": {
      "text/plain": [
       "array([[5.1, 3.5, 1.4, 0.2],\n",
       "       [4.9, 3. , 1.4, 0.2],\n",
       "       [4.7, 3.2, 1.3, 0.2],\n",
       "       [4.6, 3.1, 1.5, 0.2],\n",
       "       [5. , 3.6, 1.4, 0.2],\n",
       "       [5.4, 3.9, 1.7, 0.4],\n",
       "       [4.6, 3.4, 1.4, 0.3],\n",
       "       [5. , 3.4, 1.5, 0.2],\n",
       "       [4.4, 2.9, 1.4, 0.2],\n",
       "       [4.9, 3.1, 1.5, 0.1],\n",
       "       [5.4, 3.7, 1.5, 0.2],\n",
       "       [4.8, 3.4, 1.6, 0.2],\n",
       "       [4.8, 3. , 1.4, 0.1],\n",
       "       [4.3, 3. , 1.1, 0.1],\n",
       "       [5.8, 4. , 1.2, 0.2],\n",
       "       [5.7, 4.4, 1.5, 0.4],\n",
       "       [5.4, 3.9, 1.3, 0.4],\n",
       "       [5.1, 3.5, 1.4, 0.3],\n",
       "       [5.7, 3.8, 1.7, 0.3],\n",
       "       [5.1, 3.8, 1.5, 0.3],\n",
       "       [5.4, 3.4, 1.7, 0.2],\n",
       "       [5.1, 3.7, 1.5, 0.4],\n",
       "       [4.6, 3.6, 1. , 0.2],\n",
       "       [5.1, 3.3, 1.7, 0.5],\n",
       "       [4.8, 3.4, 1.9, 0.2],\n",
       "       [5. , 3. , 1.6, 0.2],\n",
       "       [5. , 3.4, 1.6, 0.4],\n",
       "       [5.2, 3.5, 1.5, 0.2],\n",
       "       [5.2, 3.4, 1.4, 0.2],\n",
       "       [4.7, 3.2, 1.6, 0.2],\n",
       "       [4.8, 3.1, 1.6, 0.2],\n",
       "       [5.4, 3.4, 1.5, 0.4],\n",
       "       [5.2, 4.1, 1.5, 0.1],\n",
       "       [5.5, 4.2, 1.4, 0.2],\n",
       "       [4.9, 3.1, 1.5, 0.2],\n",
       "       [5. , 3.2, 1.2, 0.2],\n",
       "       [5.5, 3.5, 1.3, 0.2],\n",
       "       [4.9, 3.6, 1.4, 0.1],\n",
       "       [4.4, 3. , 1.3, 0.2],\n",
       "       [5.1, 3.4, 1.5, 0.2],\n",
       "       [5. , 3.5, 1.3, 0.3],\n",
       "       [4.5, 2.3, 1.3, 0.3],\n",
       "       [4.4, 3.2, 1.3, 0.2],\n",
       "       [5. , 3.5, 1.6, 0.6],\n",
       "       [5.1, 3.8, 1.9, 0.4],\n",
       "       [4.8, 3. , 1.4, 0.3],\n",
       "       [5.1, 3.8, 1.6, 0.2],\n",
       "       [4.6, 3.2, 1.4, 0.2],\n",
       "       [5.3, 3.7, 1.5, 0.2],\n",
       "       [5. , 3.3, 1.4, 0.2],\n",
       "       [7. , 3.2, 4.7, 1.4],\n",
       "       [6.4, 3.2, 4.5, 1.5],\n",
       "       [6.9, 3.1, 4.9, 1.5],\n",
       "       [5.5, 2.3, 4. , 1.3],\n",
       "       [6.5, 2.8, 4.6, 1.5],\n",
       "       [5.7, 2.8, 4.5, 1.3],\n",
       "       [6.3, 3.3, 4.7, 1.6],\n",
       "       [4.9, 2.4, 3.3, 1. ],\n",
       "       [6.6, 2.9, 4.6, 1.3],\n",
       "       [5.2, 2.7, 3.9, 1.4],\n",
       "       [5. , 2. , 3.5, 1. ],\n",
       "       [5.9, 3. , 4.2, 1.5],\n",
       "       [6. , 2.2, 4. , 1. ],\n",
       "       [6.1, 2.9, 4.7, 1.4],\n",
       "       [5.6, 2.9, 3.6, 1.3],\n",
       "       [6.7, 3.1, 4.4, 1.4],\n",
       "       [5.6, 3. , 4.5, 1.5],\n",
       "       [5.8, 2.7, 4.1, 1. ],\n",
       "       [6.2, 2.2, 4.5, 1.5],\n",
       "       [5.6, 2.5, 3.9, 1.1],\n",
       "       [5.9, 3.2, 4.8, 1.8],\n",
       "       [6.1, 2.8, 4. , 1.3],\n",
       "       [6.3, 2.5, 4.9, 1.5],\n",
       "       [6.1, 2.8, 4.7, 1.2],\n",
       "       [6.4, 2.9, 4.3, 1.3],\n",
       "       [6.6, 3. , 4.4, 1.4],\n",
       "       [6.8, 2.8, 4.8, 1.4],\n",
       "       [6.7, 3. , 5. , 1.7],\n",
       "       [6. , 2.9, 4.5, 1.5],\n",
       "       [5.7, 2.6, 3.5, 1. ],\n",
       "       [5.5, 2.4, 3.8, 1.1],\n",
       "       [5.5, 2.4, 3.7, 1. ],\n",
       "       [5.8, 2.7, 3.9, 1.2],\n",
       "       [6. , 2.7, 5.1, 1.6],\n",
       "       [5.4, 3. , 4.5, 1.5],\n",
       "       [6. , 3.4, 4.5, 1.6],\n",
       "       [6.7, 3.1, 4.7, 1.5],\n",
       "       [6.3, 2.3, 4.4, 1.3],\n",
       "       [5.6, 3. , 4.1, 1.3],\n",
       "       [5.5, 2.5, 4. , 1.3],\n",
       "       [5.5, 2.6, 4.4, 1.2],\n",
       "       [6.1, 3. , 4.6, 1.4],\n",
       "       [5.8, 2.6, 4. , 1.2],\n",
       "       [5. , 2.3, 3.3, 1. ],\n",
       "       [5.6, 2.7, 4.2, 1.3],\n",
       "       [5.7, 3. , 4.2, 1.2],\n",
       "       [5.7, 2.9, 4.2, 1.3],\n",
       "       [6.2, 2.9, 4.3, 1.3],\n",
       "       [5.1, 2.5, 3. , 1.1],\n",
       "       [5.7, 2.8, 4.1, 1.3],\n",
       "       [6.3, 3.3, 6. , 2.5],\n",
       "       [5.8, 2.7, 5.1, 1.9],\n",
       "       [7.1, 3. , 5.9, 2.1],\n",
       "       [6.3, 2.9, 5.6, 1.8],\n",
       "       [6.5, 3. , 5.8, 2.2],\n",
       "       [7.6, 3. , 6.6, 2.1],\n",
       "       [4.9, 2.5, 4.5, 1.7],\n",
       "       [7.3, 2.9, 6.3, 1.8],\n",
       "       [6.7, 2.5, 5.8, 1.8],\n",
       "       [7.2, 3.6, 6.1, 2.5],\n",
       "       [6.5, 3.2, 5.1, 2. ],\n",
       "       [6.4, 2.7, 5.3, 1.9],\n",
       "       [6.8, 3. , 5.5, 2.1],\n",
       "       [5.7, 2.5, 5. , 2. ],\n",
       "       [5.8, 2.8, 5.1, 2.4],\n",
       "       [6.4, 3.2, 5.3, 2.3],\n",
       "       [6.5, 3. , 5.5, 1.8],\n",
       "       [7.7, 3.8, 6.7, 2.2],\n",
       "       [7.7, 2.6, 6.9, 2.3],\n",
       "       [6. , 2.2, 5. , 1.5],\n",
       "       [6.9, 3.2, 5.7, 2.3],\n",
       "       [5.6, 2.8, 4.9, 2. ],\n",
       "       [7.7, 2.8, 6.7, 2. ],\n",
       "       [6.3, 2.7, 4.9, 1.8],\n",
       "       [6.7, 3.3, 5.7, 2.1],\n",
       "       [7.2, 3.2, 6. , 1.8],\n",
       "       [6.2, 2.8, 4.8, 1.8],\n",
       "       [6.1, 3. , 4.9, 1.8],\n",
       "       [6.4, 2.8, 5.6, 2.1],\n",
       "       [7.2, 3. , 5.8, 1.6],\n",
       "       [7.4, 2.8, 6.1, 1.9],\n",
       "       [7.9, 3.8, 6.4, 2. ],\n",
       "       [6.4, 2.8, 5.6, 2.2],\n",
       "       [6.3, 2.8, 5.1, 1.5],\n",
       "       [6.1, 2.6, 5.6, 1.4],\n",
       "       [7.7, 3. , 6.1, 2.3],\n",
       "       [6.3, 3.4, 5.6, 2.4],\n",
       "       [6.4, 3.1, 5.5, 1.8],\n",
       "       [6. , 3. , 4.8, 1.8],\n",
       "       [6.9, 3.1, 5.4, 2.1],\n",
       "       [6.7, 3.1, 5.6, 2.4],\n",
       "       [6.9, 3.1, 5.1, 2.3],\n",
       "       [5.8, 2.7, 5.1, 1.9],\n",
       "       [6.8, 3.2, 5.9, 2.3],\n",
       "       [6.7, 3.3, 5.7, 2.5],\n",
       "       [6.7, 3. , 5.2, 2.3],\n",
       "       [6.3, 2.5, 5. , 1.9],\n",
       "       [6.5, 3. , 5.2, 2. ],\n",
       "       [6.2, 3.4, 5.4, 2.3],\n",
       "       [5.9, 3. , 5.1, 1.8]])"
      ]
     },
     "execution_count": 3,
     "metadata": {},
     "output_type": "execute_result"
    }
   ],
   "source": [
    "iris.data\n"
   ]
  },
  {
   "cell_type": "code",
   "execution_count": 4,
   "metadata": {},
   "outputs": [
    {
     "data": {
      "text/plain": [
       "['sepal length (cm)',\n",
       " 'sepal width (cm)',\n",
       " 'petal length (cm)',\n",
       " 'petal width (cm)']"
      ]
     },
     "execution_count": 4,
     "metadata": {},
     "output_type": "execute_result"
    }
   ],
   "source": [
    "iris.feature_names"
   ]
  },
  {
   "cell_type": "code",
   "execution_count": 5,
   "metadata": {},
   "outputs": [
    {
     "data": {
      "text/plain": [
       "array([0, 0, 0, 0, 0, 0, 0, 0, 0, 0, 0, 0, 0, 0, 0, 0, 0, 0, 0, 0, 0, 0,\n",
       "       0, 0, 0, 0, 0, 0, 0, 0, 0, 0, 0, 0, 0, 0, 0, 0, 0, 0, 0, 0, 0, 0,\n",
       "       0, 0, 0, 0, 0, 0, 1, 1, 1, 1, 1, 1, 1, 1, 1, 1, 1, 1, 1, 1, 1, 1,\n",
       "       1, 1, 1, 1, 1, 1, 1, 1, 1, 1, 1, 1, 1, 1, 1, 1, 1, 1, 1, 1, 1, 1,\n",
       "       1, 1, 1, 1, 1, 1, 1, 1, 1, 1, 1, 1, 2, 2, 2, 2, 2, 2, 2, 2, 2, 2,\n",
       "       2, 2, 2, 2, 2, 2, 2, 2, 2, 2, 2, 2, 2, 2, 2, 2, 2, 2, 2, 2, 2, 2,\n",
       "       2, 2, 2, 2, 2, 2, 2, 2, 2, 2, 2, 2, 2, 2, 2, 2, 2, 2])"
      ]
     },
     "execution_count": 5,
     "metadata": {},
     "output_type": "execute_result"
    }
   ],
   "source": [
    "iris.target"
   ]
  },
  {
   "cell_type": "code",
   "execution_count": 6,
   "metadata": {},
   "outputs": [
    {
     "data": {
      "text/plain": [
       "array(['setosa', 'versicolor', 'virginica'], dtype='<U10')"
      ]
     },
     "execution_count": 6,
     "metadata": {},
     "output_type": "execute_result"
    }
   ],
   "source": [
    "iris.target_names"
   ]
  },
  {
   "cell_type": "code",
   "execution_count": 7,
   "metadata": {},
   "outputs": [
    {
     "name": "stdout",
     "output_type": "stream",
     "text": [
      "<class 'numpy.ndarray'>\n",
      "<class 'numpy.ndarray'>\n"
     ]
    }
   ],
   "source": [
    "print(type(iris.data))\n",
    "print(type(iris.target))"
   ]
  },
  {
   "cell_type": "code",
   "execution_count": 8,
   "metadata": {},
   "outputs": [
    {
     "data": {
      "text/plain": [
       "(150, 4)"
      ]
     },
     "execution_count": 8,
     "metadata": {},
     "output_type": "execute_result"
    }
   ],
   "source": [
    "iris.data.shape"
   ]
  },
  {
   "cell_type": "code",
   "execution_count": 9,
   "metadata": {},
   "outputs": [
    {
     "data": {
      "text/plain": [
       "(150,)"
      ]
     },
     "execution_count": 9,
     "metadata": {},
     "output_type": "execute_result"
    }
   ],
   "source": [
    "iris.target.shape"
   ]
  },
  {
   "cell_type": "code",
   "execution_count": 10,
   "metadata": {},
   "outputs": [],
   "source": [
    "# store feature matrix in \"X\"\n",
    "X = iris.data\n",
    "\n",
    "# store response vector in \"y\"\n",
    "y = iris.target"
   ]
  },
  {
   "cell_type": "code",
   "execution_count": 11,
   "metadata": {},
   "outputs": [
    {
     "data": {
      "text/plain": [
       "numpy.ndarray"
      ]
     },
     "execution_count": 11,
     "metadata": {},
     "output_type": "execute_result"
    }
   ],
   "source": [
    "type(X)"
   ]
  },
  {
   "cell_type": "code",
   "execution_count": 12,
   "metadata": {},
   "outputs": [],
   "source": [
    "import pandas as pd\n",
    "iris_df_temp=pd.DataFrame(iris.data)"
   ]
  },
  {
   "cell_type": "code",
   "execution_count": 13,
   "metadata": {},
   "outputs": [
    {
     "data": {
      "text/html": [
       "<div>\n",
       "<style scoped>\n",
       "    .dataframe tbody tr th:only-of-type {\n",
       "        vertical-align: middle;\n",
       "    }\n",
       "\n",
       "    .dataframe tbody tr th {\n",
       "        vertical-align: top;\n",
       "    }\n",
       "\n",
       "    .dataframe thead th {\n",
       "        text-align: right;\n",
       "    }\n",
       "</style>\n",
       "<table border=\"1\" class=\"dataframe\">\n",
       "  <thead>\n",
       "    <tr style=\"text-align: right;\">\n",
       "      <th></th>\n",
       "      <th>0</th>\n",
       "      <th>1</th>\n",
       "      <th>2</th>\n",
       "      <th>3</th>\n",
       "    </tr>\n",
       "  </thead>\n",
       "  <tbody>\n",
       "    <tr>\n",
       "      <th>0</th>\n",
       "      <td>5.1</td>\n",
       "      <td>3.5</td>\n",
       "      <td>1.4</td>\n",
       "      <td>0.2</td>\n",
       "    </tr>\n",
       "    <tr>\n",
       "      <th>1</th>\n",
       "      <td>4.9</td>\n",
       "      <td>3.0</td>\n",
       "      <td>1.4</td>\n",
       "      <td>0.2</td>\n",
       "    </tr>\n",
       "    <tr>\n",
       "      <th>2</th>\n",
       "      <td>4.7</td>\n",
       "      <td>3.2</td>\n",
       "      <td>1.3</td>\n",
       "      <td>0.2</td>\n",
       "    </tr>\n",
       "    <tr>\n",
       "      <th>3</th>\n",
       "      <td>4.6</td>\n",
       "      <td>3.1</td>\n",
       "      <td>1.5</td>\n",
       "      <td>0.2</td>\n",
       "    </tr>\n",
       "    <tr>\n",
       "      <th>4</th>\n",
       "      <td>5.0</td>\n",
       "      <td>3.6</td>\n",
       "      <td>1.4</td>\n",
       "      <td>0.2</td>\n",
       "    </tr>\n",
       "    <tr>\n",
       "      <th>...</th>\n",
       "      <td>...</td>\n",
       "      <td>...</td>\n",
       "      <td>...</td>\n",
       "      <td>...</td>\n",
       "    </tr>\n",
       "    <tr>\n",
       "      <th>145</th>\n",
       "      <td>6.7</td>\n",
       "      <td>3.0</td>\n",
       "      <td>5.2</td>\n",
       "      <td>2.3</td>\n",
       "    </tr>\n",
       "    <tr>\n",
       "      <th>146</th>\n",
       "      <td>6.3</td>\n",
       "      <td>2.5</td>\n",
       "      <td>5.0</td>\n",
       "      <td>1.9</td>\n",
       "    </tr>\n",
       "    <tr>\n",
       "      <th>147</th>\n",
       "      <td>6.5</td>\n",
       "      <td>3.0</td>\n",
       "      <td>5.2</td>\n",
       "      <td>2.0</td>\n",
       "    </tr>\n",
       "    <tr>\n",
       "      <th>148</th>\n",
       "      <td>6.2</td>\n",
       "      <td>3.4</td>\n",
       "      <td>5.4</td>\n",
       "      <td>2.3</td>\n",
       "    </tr>\n",
       "    <tr>\n",
       "      <th>149</th>\n",
       "      <td>5.9</td>\n",
       "      <td>3.0</td>\n",
       "      <td>5.1</td>\n",
       "      <td>1.8</td>\n",
       "    </tr>\n",
       "  </tbody>\n",
       "</table>\n",
       "<p>150 rows × 4 columns</p>\n",
       "</div>"
      ],
      "text/plain": [
       "       0    1    2    3\n",
       "0    5.1  3.5  1.4  0.2\n",
       "1    4.9  3.0  1.4  0.2\n",
       "2    4.7  3.2  1.3  0.2\n",
       "3    4.6  3.1  1.5  0.2\n",
       "4    5.0  3.6  1.4  0.2\n",
       "..   ...  ...  ...  ...\n",
       "145  6.7  3.0  5.2  2.3\n",
       "146  6.3  2.5  5.0  1.9\n",
       "147  6.5  3.0  5.2  2.0\n",
       "148  6.2  3.4  5.4  2.3\n",
       "149  5.9  3.0  5.1  1.8\n",
       "\n",
       "[150 rows x 4 columns]"
      ]
     },
     "execution_count": 13,
     "metadata": {},
     "output_type": "execute_result"
    }
   ],
   "source": [
    "iris_df_temp"
   ]
  },
  {
   "cell_type": "code",
   "execution_count": 14,
   "metadata": {},
   "outputs": [],
   "source": [
    "data_temp = pd.read_csv('iris.csv',)"
   ]
  },
  {
   "cell_type": "code",
   "execution_count": 15,
   "metadata": {},
   "outputs": [
    {
     "data": {
      "text/html": [
       "<div>\n",
       "<style scoped>\n",
       "    .dataframe tbody tr th:only-of-type {\n",
       "        vertical-align: middle;\n",
       "    }\n",
       "\n",
       "    .dataframe tbody tr th {\n",
       "        vertical-align: top;\n",
       "    }\n",
       "\n",
       "    .dataframe thead th {\n",
       "        text-align: right;\n",
       "    }\n",
       "</style>\n",
       "<table border=\"1\" class=\"dataframe\">\n",
       "  <thead>\n",
       "    <tr style=\"text-align: right;\">\n",
       "      <th></th>\n",
       "      <th>sepal_length</th>\n",
       "      <th>sepal_width</th>\n",
       "      <th>petal_length</th>\n",
       "      <th>petal_width</th>\n",
       "      <th>species</th>\n",
       "    </tr>\n",
       "  </thead>\n",
       "  <tbody>\n",
       "    <tr>\n",
       "      <th>0</th>\n",
       "      <td>5.1</td>\n",
       "      <td>3.5</td>\n",
       "      <td>1.4</td>\n",
       "      <td>0.2</td>\n",
       "      <td>setosa</td>\n",
       "    </tr>\n",
       "    <tr>\n",
       "      <th>1</th>\n",
       "      <td>4.9</td>\n",
       "      <td>3.0</td>\n",
       "      <td>1.4</td>\n",
       "      <td>0.2</td>\n",
       "      <td>setosa</td>\n",
       "    </tr>\n",
       "    <tr>\n",
       "      <th>2</th>\n",
       "      <td>4.7</td>\n",
       "      <td>3.2</td>\n",
       "      <td>1.3</td>\n",
       "      <td>0.2</td>\n",
       "      <td>setosa</td>\n",
       "    </tr>\n",
       "    <tr>\n",
       "      <th>3</th>\n",
       "      <td>4.6</td>\n",
       "      <td>3.1</td>\n",
       "      <td>1.5</td>\n",
       "      <td>0.2</td>\n",
       "      <td>setosa</td>\n",
       "    </tr>\n",
       "    <tr>\n",
       "      <th>4</th>\n",
       "      <td>5.0</td>\n",
       "      <td>3.6</td>\n",
       "      <td>1.4</td>\n",
       "      <td>0.2</td>\n",
       "      <td>setosa</td>\n",
       "    </tr>\n",
       "    <tr>\n",
       "      <th>...</th>\n",
       "      <td>...</td>\n",
       "      <td>...</td>\n",
       "      <td>...</td>\n",
       "      <td>...</td>\n",
       "      <td>...</td>\n",
       "    </tr>\n",
       "    <tr>\n",
       "      <th>145</th>\n",
       "      <td>6.7</td>\n",
       "      <td>3.0</td>\n",
       "      <td>5.2</td>\n",
       "      <td>2.3</td>\n",
       "      <td>virginica</td>\n",
       "    </tr>\n",
       "    <tr>\n",
       "      <th>146</th>\n",
       "      <td>6.3</td>\n",
       "      <td>2.5</td>\n",
       "      <td>5.0</td>\n",
       "      <td>1.9</td>\n",
       "      <td>virginica</td>\n",
       "    </tr>\n",
       "    <tr>\n",
       "      <th>147</th>\n",
       "      <td>6.5</td>\n",
       "      <td>3.0</td>\n",
       "      <td>5.2</td>\n",
       "      <td>2.0</td>\n",
       "      <td>virginica</td>\n",
       "    </tr>\n",
       "    <tr>\n",
       "      <th>148</th>\n",
       "      <td>6.2</td>\n",
       "      <td>3.4</td>\n",
       "      <td>5.4</td>\n",
       "      <td>2.3</td>\n",
       "      <td>virginica</td>\n",
       "    </tr>\n",
       "    <tr>\n",
       "      <th>149</th>\n",
       "      <td>5.9</td>\n",
       "      <td>3.0</td>\n",
       "      <td>5.1</td>\n",
       "      <td>1.8</td>\n",
       "      <td>virginica</td>\n",
       "    </tr>\n",
       "  </tbody>\n",
       "</table>\n",
       "<p>150 rows × 5 columns</p>\n",
       "</div>"
      ],
      "text/plain": [
       "     sepal_length  sepal_width  petal_length  petal_width    species\n",
       "0             5.1          3.5           1.4          0.2     setosa\n",
       "1             4.9          3.0           1.4          0.2     setosa\n",
       "2             4.7          3.2           1.3          0.2     setosa\n",
       "3             4.6          3.1           1.5          0.2     setosa\n",
       "4             5.0          3.6           1.4          0.2     setosa\n",
       "..            ...          ...           ...          ...        ...\n",
       "145           6.7          3.0           5.2          2.3  virginica\n",
       "146           6.3          2.5           5.0          1.9  virginica\n",
       "147           6.5          3.0           5.2          2.0  virginica\n",
       "148           6.2          3.4           5.4          2.3  virginica\n",
       "149           5.9          3.0           5.1          1.8  virginica\n",
       "\n",
       "[150 rows x 5 columns]"
      ]
     },
     "execution_count": 15,
     "metadata": {},
     "output_type": "execute_result"
    }
   ],
   "source": [
    "data_temp"
   ]
  },
  {
   "cell_type": "code",
   "execution_count": 16,
   "metadata": {},
   "outputs": [],
   "source": [
    "df = pd.read_csv('iris.csv',)"
   ]
  },
  {
   "cell_type": "code",
   "execution_count": 17,
   "metadata": {},
   "outputs": [
    {
     "data": {
      "text/html": [
       "<div>\n",
       "<style scoped>\n",
       "    .dataframe tbody tr th:only-of-type {\n",
       "        vertical-align: middle;\n",
       "    }\n",
       "\n",
       "    .dataframe tbody tr th {\n",
       "        vertical-align: top;\n",
       "    }\n",
       "\n",
       "    .dataframe thead th {\n",
       "        text-align: right;\n",
       "    }\n",
       "</style>\n",
       "<table border=\"1\" class=\"dataframe\">\n",
       "  <thead>\n",
       "    <tr style=\"text-align: right;\">\n",
       "      <th></th>\n",
       "      <th>sepal_length</th>\n",
       "      <th>sepal_width</th>\n",
       "      <th>petal_length</th>\n",
       "      <th>petal_width</th>\n",
       "      <th>species</th>\n",
       "    </tr>\n",
       "  </thead>\n",
       "  <tbody>\n",
       "    <tr>\n",
       "      <th>0</th>\n",
       "      <td>5.1</td>\n",
       "      <td>3.5</td>\n",
       "      <td>1.4</td>\n",
       "      <td>0.2</td>\n",
       "      <td>setosa</td>\n",
       "    </tr>\n",
       "    <tr>\n",
       "      <th>1</th>\n",
       "      <td>4.9</td>\n",
       "      <td>3.0</td>\n",
       "      <td>1.4</td>\n",
       "      <td>0.2</td>\n",
       "      <td>setosa</td>\n",
       "    </tr>\n",
       "    <tr>\n",
       "      <th>2</th>\n",
       "      <td>4.7</td>\n",
       "      <td>3.2</td>\n",
       "      <td>1.3</td>\n",
       "      <td>0.2</td>\n",
       "      <td>setosa</td>\n",
       "    </tr>\n",
       "    <tr>\n",
       "      <th>3</th>\n",
       "      <td>4.6</td>\n",
       "      <td>3.1</td>\n",
       "      <td>1.5</td>\n",
       "      <td>0.2</td>\n",
       "      <td>setosa</td>\n",
       "    </tr>\n",
       "    <tr>\n",
       "      <th>4</th>\n",
       "      <td>5.0</td>\n",
       "      <td>3.6</td>\n",
       "      <td>1.4</td>\n",
       "      <td>0.2</td>\n",
       "      <td>setosa</td>\n",
       "    </tr>\n",
       "    <tr>\n",
       "      <th>...</th>\n",
       "      <td>...</td>\n",
       "      <td>...</td>\n",
       "      <td>...</td>\n",
       "      <td>...</td>\n",
       "      <td>...</td>\n",
       "    </tr>\n",
       "    <tr>\n",
       "      <th>145</th>\n",
       "      <td>6.7</td>\n",
       "      <td>3.0</td>\n",
       "      <td>5.2</td>\n",
       "      <td>2.3</td>\n",
       "      <td>virginica</td>\n",
       "    </tr>\n",
       "    <tr>\n",
       "      <th>146</th>\n",
       "      <td>6.3</td>\n",
       "      <td>2.5</td>\n",
       "      <td>5.0</td>\n",
       "      <td>1.9</td>\n",
       "      <td>virginica</td>\n",
       "    </tr>\n",
       "    <tr>\n",
       "      <th>147</th>\n",
       "      <td>6.5</td>\n",
       "      <td>3.0</td>\n",
       "      <td>5.2</td>\n",
       "      <td>2.0</td>\n",
       "      <td>virginica</td>\n",
       "    </tr>\n",
       "    <tr>\n",
       "      <th>148</th>\n",
       "      <td>6.2</td>\n",
       "      <td>3.4</td>\n",
       "      <td>5.4</td>\n",
       "      <td>2.3</td>\n",
       "      <td>virginica</td>\n",
       "    </tr>\n",
       "    <tr>\n",
       "      <th>149</th>\n",
       "      <td>5.9</td>\n",
       "      <td>3.0</td>\n",
       "      <td>5.1</td>\n",
       "      <td>1.8</td>\n",
       "      <td>virginica</td>\n",
       "    </tr>\n",
       "  </tbody>\n",
       "</table>\n",
       "<p>150 rows × 5 columns</p>\n",
       "</div>"
      ],
      "text/plain": [
       "     sepal_length  sepal_width  petal_length  petal_width    species\n",
       "0             5.1          3.5           1.4          0.2     setosa\n",
       "1             4.9          3.0           1.4          0.2     setosa\n",
       "2             4.7          3.2           1.3          0.2     setosa\n",
       "3             4.6          3.1           1.5          0.2     setosa\n",
       "4             5.0          3.6           1.4          0.2     setosa\n",
       "..            ...          ...           ...          ...        ...\n",
       "145           6.7          3.0           5.2          2.3  virginica\n",
       "146           6.3          2.5           5.0          1.9  virginica\n",
       "147           6.5          3.0           5.2          2.0  virginica\n",
       "148           6.2          3.4           5.4          2.3  virginica\n",
       "149           5.9          3.0           5.1          1.8  virginica\n",
       "\n",
       "[150 rows x 5 columns]"
      ]
     },
     "execution_count": 17,
     "metadata": {},
     "output_type": "execute_result"
    }
   ],
   "source": [
    "df"
   ]
  },
  {
   "cell_type": "code",
   "execution_count": 18,
   "metadata": {},
   "outputs": [
    {
     "data": {
      "text/html": [
       "<div>\n",
       "<style scoped>\n",
       "    .dataframe tbody tr th:only-of-type {\n",
       "        vertical-align: middle;\n",
       "    }\n",
       "\n",
       "    .dataframe tbody tr th {\n",
       "        vertical-align: top;\n",
       "    }\n",
       "\n",
       "    .dataframe thead th {\n",
       "        text-align: right;\n",
       "    }\n",
       "</style>\n",
       "<table border=\"1\" class=\"dataframe\">\n",
       "  <thead>\n",
       "    <tr style=\"text-align: right;\">\n",
       "      <th></th>\n",
       "      <th>sepal_length</th>\n",
       "      <th>sepal_width</th>\n",
       "      <th>petal_length</th>\n",
       "      <th>petal_width</th>\n",
       "      <th>species</th>\n",
       "    </tr>\n",
       "  </thead>\n",
       "  <tbody>\n",
       "    <tr>\n",
       "      <th>0</th>\n",
       "      <td>5.1</td>\n",
       "      <td>3.5</td>\n",
       "      <td>1.4</td>\n",
       "      <td>0.2</td>\n",
       "      <td>setosa</td>\n",
       "    </tr>\n",
       "    <tr>\n",
       "      <th>1</th>\n",
       "      <td>4.9</td>\n",
       "      <td>3.0</td>\n",
       "      <td>1.4</td>\n",
       "      <td>0.2</td>\n",
       "      <td>setosa</td>\n",
       "    </tr>\n",
       "    <tr>\n",
       "      <th>2</th>\n",
       "      <td>4.7</td>\n",
       "      <td>3.2</td>\n",
       "      <td>1.3</td>\n",
       "      <td>0.2</td>\n",
       "      <td>setosa</td>\n",
       "    </tr>\n",
       "    <tr>\n",
       "      <th>3</th>\n",
       "      <td>4.6</td>\n",
       "      <td>3.1</td>\n",
       "      <td>1.5</td>\n",
       "      <td>0.2</td>\n",
       "      <td>setosa</td>\n",
       "    </tr>\n",
       "    <tr>\n",
       "      <th>4</th>\n",
       "      <td>5.0</td>\n",
       "      <td>3.6</td>\n",
       "      <td>1.4</td>\n",
       "      <td>0.2</td>\n",
       "      <td>setosa</td>\n",
       "    </tr>\n",
       "  </tbody>\n",
       "</table>\n",
       "</div>"
      ],
      "text/plain": [
       "   sepal_length  sepal_width  petal_length  petal_width species\n",
       "0           5.1          3.5           1.4          0.2  setosa\n",
       "1           4.9          3.0           1.4          0.2  setosa\n",
       "2           4.7          3.2           1.3          0.2  setosa\n",
       "3           4.6          3.1           1.5          0.2  setosa\n",
       "4           5.0          3.6           1.4          0.2  setosa"
      ]
     },
     "execution_count": 18,
     "metadata": {},
     "output_type": "execute_result"
    }
   ],
   "source": [
    "df.head()"
   ]
  },
  {
   "cell_type": "code",
   "execution_count": 19,
   "metadata": {},
   "outputs": [
    {
     "data": {
      "text/html": [
       "<div>\n",
       "<style scoped>\n",
       "    .dataframe tbody tr th:only-of-type {\n",
       "        vertical-align: middle;\n",
       "    }\n",
       "\n",
       "    .dataframe tbody tr th {\n",
       "        vertical-align: top;\n",
       "    }\n",
       "\n",
       "    .dataframe thead th {\n",
       "        text-align: right;\n",
       "    }\n",
       "</style>\n",
       "<table border=\"1\" class=\"dataframe\">\n",
       "  <thead>\n",
       "    <tr style=\"text-align: right;\">\n",
       "      <th></th>\n",
       "      <th>sepal_length</th>\n",
       "      <th>sepal_width</th>\n",
       "      <th>petal_length</th>\n",
       "      <th>petal_width</th>\n",
       "      <th>species</th>\n",
       "    </tr>\n",
       "  </thead>\n",
       "  <tbody>\n",
       "    <tr>\n",
       "      <th>145</th>\n",
       "      <td>6.7</td>\n",
       "      <td>3.0</td>\n",
       "      <td>5.2</td>\n",
       "      <td>2.3</td>\n",
       "      <td>virginica</td>\n",
       "    </tr>\n",
       "    <tr>\n",
       "      <th>146</th>\n",
       "      <td>6.3</td>\n",
       "      <td>2.5</td>\n",
       "      <td>5.0</td>\n",
       "      <td>1.9</td>\n",
       "      <td>virginica</td>\n",
       "    </tr>\n",
       "    <tr>\n",
       "      <th>147</th>\n",
       "      <td>6.5</td>\n",
       "      <td>3.0</td>\n",
       "      <td>5.2</td>\n",
       "      <td>2.0</td>\n",
       "      <td>virginica</td>\n",
       "    </tr>\n",
       "    <tr>\n",
       "      <th>148</th>\n",
       "      <td>6.2</td>\n",
       "      <td>3.4</td>\n",
       "      <td>5.4</td>\n",
       "      <td>2.3</td>\n",
       "      <td>virginica</td>\n",
       "    </tr>\n",
       "    <tr>\n",
       "      <th>149</th>\n",
       "      <td>5.9</td>\n",
       "      <td>3.0</td>\n",
       "      <td>5.1</td>\n",
       "      <td>1.8</td>\n",
       "      <td>virginica</td>\n",
       "    </tr>\n",
       "  </tbody>\n",
       "</table>\n",
       "</div>"
      ],
      "text/plain": [
       "     sepal_length  sepal_width  petal_length  petal_width    species\n",
       "145           6.7          3.0           5.2          2.3  virginica\n",
       "146           6.3          2.5           5.0          1.9  virginica\n",
       "147           6.5          3.0           5.2          2.0  virginica\n",
       "148           6.2          3.4           5.4          2.3  virginica\n",
       "149           5.9          3.0           5.1          1.8  virginica"
      ]
     },
     "execution_count": 19,
     "metadata": {},
     "output_type": "execute_result"
    }
   ],
   "source": [
    "df.tail()"
   ]
  },
  {
   "cell_type": "code",
   "execution_count": 20,
   "metadata": {},
   "outputs": [
    {
     "name": "stdout",
     "output_type": "stream",
     "text": [
      "<class 'pandas.core.frame.DataFrame'>\n",
      "RangeIndex: 150 entries, 0 to 149\n",
      "Data columns (total 5 columns):\n",
      " #   Column        Non-Null Count  Dtype  \n",
      "---  ------        --------------  -----  \n",
      " 0   sepal_length  150 non-null    float64\n",
      " 1   sepal_width   150 non-null    float64\n",
      " 2   petal_length  150 non-null    float64\n",
      " 3   petal_width   150 non-null    float64\n",
      " 4   species       150 non-null    object \n",
      "dtypes: float64(4), object(1)\n",
      "memory usage: 6.0+ KB\n"
     ]
    }
   ],
   "source": [
    "df.info()"
   ]
  },
  {
   "cell_type": "code",
   "execution_count": 21,
   "metadata": {},
   "outputs": [
    {
     "data": {
      "text/html": [
       "<div>\n",
       "<style scoped>\n",
       "    .dataframe tbody tr th:only-of-type {\n",
       "        vertical-align: middle;\n",
       "    }\n",
       "\n",
       "    .dataframe tbody tr th {\n",
       "        vertical-align: top;\n",
       "    }\n",
       "\n",
       "    .dataframe thead th {\n",
       "        text-align: right;\n",
       "    }\n",
       "</style>\n",
       "<table border=\"1\" class=\"dataframe\">\n",
       "  <thead>\n",
       "    <tr style=\"text-align: right;\">\n",
       "      <th></th>\n",
       "      <th>sepal_length</th>\n",
       "      <th>sepal_width</th>\n",
       "      <th>petal_length</th>\n",
       "      <th>petal_width</th>\n",
       "    </tr>\n",
       "  </thead>\n",
       "  <tbody>\n",
       "    <tr>\n",
       "      <th>count</th>\n",
       "      <td>150.000000</td>\n",
       "      <td>150.000000</td>\n",
       "      <td>150.000000</td>\n",
       "      <td>150.000000</td>\n",
       "    </tr>\n",
       "    <tr>\n",
       "      <th>mean</th>\n",
       "      <td>5.843333</td>\n",
       "      <td>3.054000</td>\n",
       "      <td>3.758667</td>\n",
       "      <td>1.198667</td>\n",
       "    </tr>\n",
       "    <tr>\n",
       "      <th>std</th>\n",
       "      <td>0.828066</td>\n",
       "      <td>0.433594</td>\n",
       "      <td>1.764420</td>\n",
       "      <td>0.763161</td>\n",
       "    </tr>\n",
       "    <tr>\n",
       "      <th>min</th>\n",
       "      <td>4.300000</td>\n",
       "      <td>2.000000</td>\n",
       "      <td>1.000000</td>\n",
       "      <td>0.100000</td>\n",
       "    </tr>\n",
       "    <tr>\n",
       "      <th>25%</th>\n",
       "      <td>5.100000</td>\n",
       "      <td>2.800000</td>\n",
       "      <td>1.600000</td>\n",
       "      <td>0.300000</td>\n",
       "    </tr>\n",
       "    <tr>\n",
       "      <th>50%</th>\n",
       "      <td>5.800000</td>\n",
       "      <td>3.000000</td>\n",
       "      <td>4.350000</td>\n",
       "      <td>1.300000</td>\n",
       "    </tr>\n",
       "    <tr>\n",
       "      <th>75%</th>\n",
       "      <td>6.400000</td>\n",
       "      <td>3.300000</td>\n",
       "      <td>5.100000</td>\n",
       "      <td>1.800000</td>\n",
       "    </tr>\n",
       "    <tr>\n",
       "      <th>max</th>\n",
       "      <td>7.900000</td>\n",
       "      <td>4.400000</td>\n",
       "      <td>6.900000</td>\n",
       "      <td>2.500000</td>\n",
       "    </tr>\n",
       "  </tbody>\n",
       "</table>\n",
       "</div>"
      ],
      "text/plain": [
       "       sepal_length  sepal_width  petal_length  petal_width\n",
       "count    150.000000   150.000000    150.000000   150.000000\n",
       "mean       5.843333     3.054000      3.758667     1.198667\n",
       "std        0.828066     0.433594      1.764420     0.763161\n",
       "min        4.300000     2.000000      1.000000     0.100000\n",
       "25%        5.100000     2.800000      1.600000     0.300000\n",
       "50%        5.800000     3.000000      4.350000     1.300000\n",
       "75%        6.400000     3.300000      5.100000     1.800000\n",
       "max        7.900000     4.400000      6.900000     2.500000"
      ]
     },
     "execution_count": 21,
     "metadata": {},
     "output_type": "execute_result"
    }
   ],
   "source": [
    "df.describe()"
   ]
  },
  {
   "cell_type": "code",
   "execution_count": 22,
   "metadata": {},
   "outputs": [
    {
     "data": {
      "text/plain": [
       "sepal_length    0\n",
       "sepal_width     0\n",
       "petal_length    0\n",
       "petal_width     0\n",
       "species         0\n",
       "dtype: int64"
      ]
     },
     "execution_count": 22,
     "metadata": {},
     "output_type": "execute_result"
    }
   ],
   "source": [
    "df.isnull().sum()"
   ]
  },
  {
   "cell_type": "code",
   "execution_count": 23,
   "metadata": {},
   "outputs": [
    {
     "data": {
      "text/plain": [
       "Index(['sepal_length', 'sepal_width', 'petal_length', 'petal_width',\n",
       "       'species'],\n",
       "      dtype='object')"
      ]
     },
     "execution_count": 23,
     "metadata": {},
     "output_type": "execute_result"
    }
   ],
   "source": [
    "df.columns"
   ]
  },
  {
   "cell_type": "code",
   "execution_count": 24,
   "metadata": {},
   "outputs": [
    {
     "data": {
      "text/html": [
       "<div>\n",
       "<style scoped>\n",
       "    .dataframe tbody tr th:only-of-type {\n",
       "        vertical-align: middle;\n",
       "    }\n",
       "\n",
       "    .dataframe tbody tr th {\n",
       "        vertical-align: top;\n",
       "    }\n",
       "\n",
       "    .dataframe thead th {\n",
       "        text-align: right;\n",
       "    }\n",
       "</style>\n",
       "<table border=\"1\" class=\"dataframe\">\n",
       "  <thead>\n",
       "    <tr style=\"text-align: right;\">\n",
       "      <th></th>\n",
       "      <th>sepal_length</th>\n",
       "      <th>sepal_width</th>\n",
       "      <th>petal_length</th>\n",
       "      <th>petal_width</th>\n",
       "      <th>species</th>\n",
       "    </tr>\n",
       "  </thead>\n",
       "  <tbody>\n",
       "    <tr>\n",
       "      <th>count</th>\n",
       "      <td>150.000000</td>\n",
       "      <td>150.000000</td>\n",
       "      <td>150.000000</td>\n",
       "      <td>150.000000</td>\n",
       "      <td>150</td>\n",
       "    </tr>\n",
       "    <tr>\n",
       "      <th>unique</th>\n",
       "      <td>NaN</td>\n",
       "      <td>NaN</td>\n",
       "      <td>NaN</td>\n",
       "      <td>NaN</td>\n",
       "      <td>3</td>\n",
       "    </tr>\n",
       "    <tr>\n",
       "      <th>top</th>\n",
       "      <td>NaN</td>\n",
       "      <td>NaN</td>\n",
       "      <td>NaN</td>\n",
       "      <td>NaN</td>\n",
       "      <td>versicolor</td>\n",
       "    </tr>\n",
       "    <tr>\n",
       "      <th>freq</th>\n",
       "      <td>NaN</td>\n",
       "      <td>NaN</td>\n",
       "      <td>NaN</td>\n",
       "      <td>NaN</td>\n",
       "      <td>50</td>\n",
       "    </tr>\n",
       "    <tr>\n",
       "      <th>mean</th>\n",
       "      <td>5.843333</td>\n",
       "      <td>3.054000</td>\n",
       "      <td>3.758667</td>\n",
       "      <td>1.198667</td>\n",
       "      <td>NaN</td>\n",
       "    </tr>\n",
       "    <tr>\n",
       "      <th>std</th>\n",
       "      <td>0.828066</td>\n",
       "      <td>0.433594</td>\n",
       "      <td>1.764420</td>\n",
       "      <td>0.763161</td>\n",
       "      <td>NaN</td>\n",
       "    </tr>\n",
       "    <tr>\n",
       "      <th>min</th>\n",
       "      <td>4.300000</td>\n",
       "      <td>2.000000</td>\n",
       "      <td>1.000000</td>\n",
       "      <td>0.100000</td>\n",
       "      <td>NaN</td>\n",
       "    </tr>\n",
       "    <tr>\n",
       "      <th>25%</th>\n",
       "      <td>5.100000</td>\n",
       "      <td>2.800000</td>\n",
       "      <td>1.600000</td>\n",
       "      <td>0.300000</td>\n",
       "      <td>NaN</td>\n",
       "    </tr>\n",
       "    <tr>\n",
       "      <th>50%</th>\n",
       "      <td>5.800000</td>\n",
       "      <td>3.000000</td>\n",
       "      <td>4.350000</td>\n",
       "      <td>1.300000</td>\n",
       "      <td>NaN</td>\n",
       "    </tr>\n",
       "    <tr>\n",
       "      <th>75%</th>\n",
       "      <td>6.400000</td>\n",
       "      <td>3.300000</td>\n",
       "      <td>5.100000</td>\n",
       "      <td>1.800000</td>\n",
       "      <td>NaN</td>\n",
       "    </tr>\n",
       "    <tr>\n",
       "      <th>max</th>\n",
       "      <td>7.900000</td>\n",
       "      <td>4.400000</td>\n",
       "      <td>6.900000</td>\n",
       "      <td>2.500000</td>\n",
       "      <td>NaN</td>\n",
       "    </tr>\n",
       "  </tbody>\n",
       "</table>\n",
       "</div>"
      ],
      "text/plain": [
       "        sepal_length  sepal_width  petal_length  petal_width     species\n",
       "count     150.000000   150.000000    150.000000   150.000000         150\n",
       "unique           NaN          NaN           NaN          NaN           3\n",
       "top              NaN          NaN           NaN          NaN  versicolor\n",
       "freq             NaN          NaN           NaN          NaN          50\n",
       "mean        5.843333     3.054000      3.758667     1.198667         NaN\n",
       "std         0.828066     0.433594      1.764420     0.763161         NaN\n",
       "min         4.300000     2.000000      1.000000     0.100000         NaN\n",
       "25%         5.100000     2.800000      1.600000     0.300000         NaN\n",
       "50%         5.800000     3.000000      4.350000     1.300000         NaN\n",
       "75%         6.400000     3.300000      5.100000     1.800000         NaN\n",
       "max         7.900000     4.400000      6.900000     2.500000         NaN"
      ]
     },
     "execution_count": 24,
     "metadata": {},
     "output_type": "execute_result"
    }
   ],
   "source": [
    "df.describe(include ='all')"
   ]
  },
  {
   "cell_type": "code",
   "execution_count": 25,
   "metadata": {},
   "outputs": [],
   "source": [
    "import seaborn as sns\n",
    "import matplotlib.pyplot as plt\n",
    "\n",
    "df['species'].value_counts()\n",
    "sns.set_palette('husl')"
   ]
  },
  {
   "cell_type": "code",
   "execution_count": 26,
   "metadata": {},
   "outputs": [
    {
     "data": {
      "image/png": "[encoded data removed]",
      "text/plain": [
       "<Figure size 804.75x720 with 20 Axes>"
      ]
     },
     "metadata": {
      "needs_background": "light"
     },
     "output_type": "display_data"
    }
   ],
   "source": [
    "\n",
    "\n",
    "# tmp = df.drop('species', axis=1)\n",
    "g = sns.pairplot(df, hue='species', markers='+')\n",
    "plt.show()"
   ]
  },
  {
   "cell_type": "code",
   "execution_count": 27,
   "metadata": {},
   "outputs": [],
   "source": [
    "from sklearn.model_selection import train_test_split\n",
    "from sklearn.datasets import load_iris"
   ]
  },
  {
   "cell_type": "code",
   "execution_count": null,
   "metadata": {},
   "outputs": [],
   "source": []
  },
  {
   "cell_type": "code",
   "execution_count": 28,
   "metadata": {},
   "outputs": [
    {
     "data": {
      "text/plain": [
       "0.2"
      ]
     },
     "execution_count": 28,
     "metadata": {},
     "output_type": "execute_result"
    }
   ],
   "source": [
    "10/50"
   ]
  },
  {
   "cell_type": "code",
   "execution_count": 29,
   "metadata": {},
   "outputs": [],
   "source": [
    "x, y = iris.data, iris.target\n",
    "x_train,x_test,y_train,y_test=train_test_split(x,y,test_size=0.2,random_state=10)"
   ]
  },
  {
   "cell_type": "code",
   "execution_count": 30,
   "metadata": {},
   "outputs": [
    {
     "data": {
      "text/plain": [
       "numpy.ndarray"
      ]
     },
     "execution_count": 30,
     "metadata": {},
     "output_type": "execute_result"
    }
   ],
   "source": [
    "type(x)"
   ]
  },
  {
   "cell_type": "code",
   "execution_count": 31,
   "metadata": {},
   "outputs": [
    {
     "data": {
      "text/plain": [
       "numpy.ndarray"
      ]
     },
     "execution_count": 31,
     "metadata": {},
     "output_type": "execute_result"
    }
   ],
   "source": [
    "type(y)"
   ]
  },
  {
   "cell_type": "code",
   "execution_count": 32,
   "metadata": {},
   "outputs": [
    {
     "data": {
      "text/plain": [
       "array([1, 2, 0, 1, 0, 1, 1, 1, 0, 1, 1, 2, 1, 0, 0, 2, 1, 0, 0, 0, 2, 2,\n",
       "       2, 0, 1, 0, 1, 1, 1, 2])"
      ]
     },
     "execution_count": 32,
     "metadata": {},
     "output_type": "execute_result"
    }
   ],
   "source": [
    "y_test"
   ]
  },
  {
   "cell_type": "code",
   "execution_count": 33,
   "metadata": {},
   "outputs": [
    {
     "data": {
      "text/plain": [
       "array([1, 2, 0, 1, 0, 1, 1, 1, 0, 1, 1, 2, 1, 0, 0, 2, 1, 0, 0, 0, 2, 2,\n",
       "       2, 0, 1, 0, 1, 1, 1, 2])"
      ]
     },
     "execution_count": 33,
     "metadata": {},
     "output_type": "execute_result"
    }
   ],
   "source": [
    "y_test"
   ]
  },
  {
   "cell_type": "code",
   "execution_count": 34,
   "metadata": {},
   "outputs": [],
   "source": [
    "x_tr = iris.data[0:40:1] + iris.data[50:90:1] + iris.data[100:140:1]"
   ]
  },
  {
   "cell_type": "code",
   "execution_count": 35,
   "metadata": {},
   "outputs": [],
   "source": [
    "x_te = iris.data[40:50:1],iris.data[90:100:1],iris.data[140:150:1]"
   ]
  },
  {
   "cell_type": "code",
   "execution_count": 36,
   "metadata": {},
   "outputs": [],
   "source": [
    "y_te1,y_te2,y_te3 = iris.target[40:50:1],iris.target[90:100:1],iris.target[140:150:1]"
   ]
  },
  {
   "cell_type": "code",
   "execution_count": 37,
   "metadata": {},
   "outputs": [
    {
     "data": {
      "text/plain": [
       "array([0, 0, 0, 0, 0, 0, 0, 0, 0, 0])"
      ]
     },
     "execution_count": 37,
     "metadata": {},
     "output_type": "execute_result"
    }
   ],
   "source": [
    "y_te1"
   ]
  },
  {
   "cell_type": "code",
   "execution_count": 38,
   "metadata": {},
   "outputs": [],
   "source": [
    "import numpy as np\n",
    "y_te = np.concatenate((y_te1,y_te2,y_te3), axis=0)"
   ]
  },
  {
   "cell_type": "code",
   "execution_count": 39,
   "metadata": {},
   "outputs": [
    {
     "data": {
      "text/plain": [
       "array([0, 0, 0, 0, 0, 0, 0, 0, 0, 0, 1, 1, 1, 1, 1, 1, 1, 1, 1, 1, 2, 2,\n",
       "       2, 2, 2, 2, 2, 2, 2, 2])"
      ]
     },
     "execution_count": 39,
     "metadata": {},
     "output_type": "execute_result"
    }
   ],
   "source": [
    "y_te"
   ]
  },
  {
   "cell_type": "markdown",
   "metadata": {},
   "source": [
    "#### Cross Validation - splitting dataset"
   ]
  },
  {
   "cell_type": "code",
   "execution_count": 40,
   "metadata": {},
   "outputs": [],
   "source": [
    "# split after randomizing"
   ]
  },
  {
   "cell_type": "code",
   "execution_count": 41,
   "metadata": {},
   "outputs": [],
   "source": [
    "x, y = iris.data, iris.target\n",
    "x_train1,x_test1,y_train1,y_test1=train_test_split(x[0:50:],y[0:50:],test_size=0.2,random_state=10)"
   ]
  },
  {
   "cell_type": "code",
   "execution_count": 42,
   "metadata": {},
   "outputs": [],
   "source": [
    "x_train2,x_test2,y_train2,y_test2=train_test_split(x[50:100:],y[50:100:],test_size=0.2,random_state=10)"
   ]
  },
  {
   "cell_type": "code",
   "execution_count": 43,
   "metadata": {},
   "outputs": [],
   "source": [
    "x_train3,x_test3,y_train3,y_test3=train_test_split(x[100:150:],y[100:150:],test_size=0.2,random_state=10)"
   ]
  },
  {
   "cell_type": "code",
   "execution_count": 44,
   "metadata": {},
   "outputs": [],
   "source": [
    "# x_train is created with 40 values from each category(shuffled using random_state)\n",
    "x_train = np.concatenate((x_train1,x_train2,x_train3), axis=0)"
   ]
  },
  {
   "cell_type": "code",
   "execution_count": 45,
   "metadata": {},
   "outputs": [],
   "source": [
    "# y_test is created corresponding to y train data\n",
    "y_test = np.concatenate((y_test1,y_test2,y_test3), axis=0)"
   ]
  },
  {
   "cell_type": "code",
   "execution_count": 46,
   "metadata": {},
   "outputs": [
    {
     "data": {
      "text/plain": [
       "array([[5.1, 3.4, 1.5, 0.2],\n",
       "       [4.7, 3.2, 1.3, 0.2],\n",
       "       [5. , 3.5, 1.3, 0.3],\n",
       "       [5.2, 4.1, 1.5, 0.1],\n",
       "       [5.4, 3.7, 1.5, 0.2],\n",
       "       [5.1, 3.7, 1.5, 0.4],\n",
       "       [5. , 3.2, 1.2, 0.2],\n",
       "       [5.2, 3.5, 1.5, 0.2],\n",
       "       [5.7, 3.8, 1.7, 0.3],\n",
       "       [5.4, 3.4, 1.5, 0.4],\n",
       "       [4.9, 3. , 1.4, 0.2],\n",
       "       [4.8, 3. , 1.4, 0.1],\n",
       "       [4.9, 3.1, 1.5, 0.2],\n",
       "       [4.8, 3. , 1.4, 0.3],\n",
       "       [5. , 3.4, 1.6, 0.4],\n",
       "       [5.4, 3.9, 1.7, 0.4],\n",
       "       [4.3, 3. , 1.1, 0.1],\n",
       "       [4.6, 3.6, 1. , 0.2],\n",
       "       [5.1, 3.8, 1.5, 0.3],\n",
       "       [5.1, 3.5, 1.4, 0.3],\n",
       "       [5.8, 4. , 1.2, 0.2],\n",
       "       [5. , 3.6, 1.4, 0.2],\n",
       "       [4.5, 2.3, 1.3, 0.3],\n",
       "       [5.5, 4.2, 1.4, 0.2],\n",
       "       [4.8, 3.4, 1.9, 0.2],\n",
       "       [4.8, 3.4, 1.6, 0.2],\n",
       "       [4.4, 3. , 1.3, 0.2],\n",
       "       [5.4, 3.9, 1.3, 0.4],\n",
       "       [5.3, 3.7, 1.5, 0.2],\n",
       "       [5.1, 3.8, 1.6, 0.2],\n",
       "       [5. , 3.3, 1.4, 0.2],\n",
       "       [4.4, 2.9, 1.4, 0.2],\n",
       "       [5. , 3.5, 1.6, 0.6],\n",
       "       [4.7, 3.2, 1.6, 0.2],\n",
       "       [5. , 3. , 1.6, 0.2],\n",
       "       [5.2, 3.4, 1.4, 0.2],\n",
       "       [5.1, 3.5, 1.4, 0.2],\n",
       "       [5.7, 4.4, 1.5, 0.4],\n",
       "       [5.5, 3.5, 1.3, 0.2],\n",
       "       [4.9, 3.1, 1.5, 0.1]])"
      ]
     },
     "execution_count": 46,
     "metadata": {},
     "output_type": "execute_result"
    }
   ],
   "source": [
    "x_train1"
   ]
  },
  {
   "cell_type": "code",
   "execution_count": 47,
   "metadata": {},
   "outputs": [
    {
     "data": {
      "text/plain": [
       "array([[5.5, 2.5, 4. , 1.3],\n",
       "       [6.9, 3.1, 4.9, 1.5],\n",
       "       [5.5, 2.6, 4.4, 1.2],\n",
       "       [5.8, 2.7, 3.9, 1.2],\n",
       "       [5. , 2. , 3.5, 1. ],\n",
       "       [6.1, 2.8, 4. , 1.3],\n",
       "       [6. , 3.4, 4.5, 1.6],\n",
       "       [6.7, 3. , 5. , 1.7],\n",
       "       [6.2, 2.2, 4.5, 1.5],\n",
       "       [5.5, 2.4, 3.7, 1. ],\n",
       "       [6.4, 3.2, 4.5, 1.5],\n",
       "       [6. , 2.2, 4. , 1. ],\n",
       "       [5.4, 3. , 4.5, 1.5],\n",
       "       [5.7, 3. , 4.2, 1.2],\n",
       "       [6.8, 2.8, 4.8, 1.4],\n",
       "       [5.7, 2.8, 4.5, 1.3],\n",
       "       [6.1, 2.9, 4.7, 1.4],\n",
       "       [6.3, 2.5, 4.9, 1.5],\n",
       "       [5.6, 2.5, 3.9, 1.1],\n",
       "       [5.8, 2.7, 4.1, 1. ],\n",
       "       [5.6, 2.9, 3.6, 1.3],\n",
       "       [6.5, 2.8, 4.6, 1.5],\n",
       "       [6.1, 3. , 4.6, 1.4],\n",
       "       [6. , 2.7, 5.1, 1.6],\n",
       "       [6.4, 2.9, 4.3, 1.3],\n",
       "       [5.9, 3. , 4.2, 1.5],\n",
       "       [5.6, 3. , 4.1, 1.3],\n",
       "       [5.6, 3. , 4.5, 1.5],\n",
       "       [5.1, 2.5, 3. , 1.1],\n",
       "       [5.7, 2.9, 4.2, 1.3],\n",
       "       [5.7, 2.8, 4.1, 1.3],\n",
       "       [6.6, 2.9, 4.6, 1.3],\n",
       "       [5. , 2.3, 3.3, 1. ],\n",
       "       [5.7, 2.6, 3.5, 1. ],\n",
       "       [6.6, 3. , 4.4, 1.4],\n",
       "       [6. , 2.9, 4.5, 1.5],\n",
       "       [7. , 3.2, 4.7, 1.4],\n",
       "       [6.7, 3.1, 4.4, 1.4],\n",
       "       [6.7, 3.1, 4.7, 1.5],\n",
       "       [5.2, 2.7, 3.9, 1.4]])"
      ]
     },
     "execution_count": 47,
     "metadata": {},
     "output_type": "execute_result"
    }
   ],
   "source": [
    "x_train2"
   ]
  },
  {
   "cell_type": "code",
   "execution_count": 48,
   "metadata": {},
   "outputs": [
    {
     "data": {
      "text/plain": [
       "array([[6.9, 3.1, 5.4, 2.1],\n",
       "       [7.1, 3. , 5.9, 2.1],\n",
       "       [6.7, 3.1, 5.6, 2.4],\n",
       "       [6.4, 2.8, 5.6, 2.2],\n",
       "       [6.5, 3.2, 5.1, 2. ],\n",
       "       [5.6, 2.8, 4.9, 2. ],\n",
       "       [7.7, 3. , 6.1, 2.3],\n",
       "       [6.1, 3. , 4.9, 1.8],\n",
       "       [7.7, 2.6, 6.9, 2.3],\n",
       "       [7.9, 3.8, 6.4, 2. ],\n",
       "       [5.8, 2.7, 5.1, 1.9],\n",
       "       [6.8, 3. , 5.5, 2.1],\n",
       "       [6.1, 2.6, 5.6, 1.4],\n",
       "       [6.7, 3. , 5.2, 2.3],\n",
       "       [6.2, 2.8, 4.8, 1.8],\n",
       "       [7.6, 3. , 6.6, 2.1],\n",
       "       [5.7, 2.5, 5. , 2. ],\n",
       "       [7.7, 2.8, 6.7, 2. ],\n",
       "       [6. , 2.2, 5. , 1.5],\n",
       "       [7.7, 3.8, 6.7, 2.2],\n",
       "       [5.8, 2.8, 5.1, 2.4],\n",
       "       [6.5, 3. , 5.8, 2.2],\n",
       "       [6.9, 3.1, 5.1, 2.3],\n",
       "       [6.3, 2.8, 5.1, 1.5],\n",
       "       [6.7, 3.3, 5.7, 2.1],\n",
       "       [6.4, 2.7, 5.3, 1.9],\n",
       "       [6. , 3. , 4.8, 1.8],\n",
       "       [6.5, 3. , 5.5, 1.8],\n",
       "       [6.2, 3.4, 5.4, 2.3],\n",
       "       [6.3, 2.5, 5. , 1.9],\n",
       "       [5.9, 3. , 5.1, 1.8],\n",
       "       [6.7, 2.5, 5.8, 1.8],\n",
       "       [6.8, 3.2, 5.9, 2.3],\n",
       "       [7.2, 3. , 5.8, 1.6],\n",
       "       [7.2, 3.2, 6. , 1.8],\n",
       "       [6.4, 2.8, 5.6, 2.1],\n",
       "       [6.3, 3.3, 6. , 2.5],\n",
       "       [6.4, 3.2, 5.3, 2.3],\n",
       "       [6.3, 3.4, 5.6, 2.4],\n",
       "       [7.2, 3.6, 6.1, 2.5]])"
      ]
     },
     "execution_count": 48,
     "metadata": {},
     "output_type": "execute_result"
    }
   ],
   "source": [
    "x_train3"
   ]
  },
  {
   "cell_type": "code",
   "execution_count": 49,
   "metadata": {},
   "outputs": [
    {
     "data": {
      "text/plain": [
       "array([0, 0, 0, 0, 0, 0, 0, 0, 0, 0, 1, 1, 1, 1, 1, 1, 1, 1, 1, 1, 2, 2,\n",
       "       2, 2, 2, 2, 2, 2, 2, 2])"
      ]
     },
     "execution_count": 49,
     "metadata": {},
     "output_type": "execute_result"
    }
   ],
   "source": [
    "y_test"
   ]
  },
  {
   "cell_type": "code",
   "execution_count": 50,
   "metadata": {},
   "outputs": [],
   "source": [
    "# y_train data which gives target values for x_train data\n",
    "y_train = np.concatenate((y_train1,y_train2,y_train3), axis=0)"
   ]
  },
  {
   "cell_type": "code",
   "execution_count": 51,
   "metadata": {},
   "outputs": [],
   "source": [
    "# target set is created with 10 values from each category(shuffled using random_state)\n",
    "x_test = np.concatenate((x_test1,x_test2,x_test3), axis=0)"
   ]
  },
  {
   "cell_type": "markdown",
   "metadata": {},
   "source": [
    "### Likelihood"
   ]
  },
  {
   "cell_type": "markdown",
   "metadata": {},
   "source": [
    "#### Likelihood for Category 1"
   ]
  },
  {
   "cell_type": "code",
   "execution_count": 52,
   "metadata": {},
   "outputs": [
    {
     "data": {
      "text/plain": [
       "(40, 4)"
      ]
     },
     "execution_count": 52,
     "metadata": {},
     "output_type": "execute_result"
    }
   ],
   "source": [
    "np.shape(x_train1)"
   ]
  },
  {
   "cell_type": "code",
   "execution_count": 53,
   "metadata": {},
   "outputs": [
    {
     "name": "stdout",
     "output_type": "stream",
     "text": [
      "5.045 0.351390096616282\n",
      "3.4475000000000002 0.40372484441758105\n",
      "1.4425000000000001 0.16566155257029314\n",
      "0.24500000000000002 0.10234744745229361\n"
     ]
    }
   ],
   "source": [
    "# likelihood calculation p(xi/ci)\n",
    "# case 1 : where ci = c1 i.e., Category 1 - setosa\n",
    "\n",
    "# mean and std calculation for C1 - xtrain1 values\n",
    "\n",
    "# mean and std for column 1 - C1\n",
    "type(x_train1)\n",
    "mean1 = np.mean(x_train1[:,0])\n",
    "std1 = np.std(x_train1[:,0])\n",
    "\n",
    "# mean std for column 2 - C2\n",
    "mean2 = np.mean(x_train1[:,1])\n",
    "std2 = np.std(x_train1[:,1])\n",
    "\n",
    "# mean std for column 3 - C3\n",
    "mean3 = np.mean(x_train1[:,2])\n",
    "std3 = np.std(x_train1[:,2])\n",
    "\n",
    "# mean std for column 4 - C4\n",
    "mean4 = np.mean(x_train1[:,3])\n",
    "std4 = np.std(x_train1[:,3])\n",
    "\n",
    "#  x_train1_xi contains p(xk / Ci) where Ci = category 1 - setosa\n",
    "x_train1_xi = np.copy(x_train1)\n",
    "\n",
    "print(mean1, std1)\n",
    "print(mean2, std2)\n",
    "print(mean3, std3)\n",
    "print(mean4, std4)"
   ]
  },
  {
   "cell_type": "code",
   "execution_count": 54,
   "metadata": {},
   "outputs": [
    {
     "data": {
      "text/plain": [
       "array([[5.1, 3.4, 1.5, 0.2],\n",
       "       [4.7, 3.2, 1.3, 0.2],\n",
       "       [5. , 3.5, 1.3, 0.3],\n",
       "       [5.2, 4.1, 1.5, 0.1],\n",
       "       [5.4, 3.7, 1.5, 0.2],\n",
       "       [5.1, 3.7, 1.5, 0.4],\n",
       "       [5. , 3.2, 1.2, 0.2],\n",
       "       [5.2, 3.5, 1.5, 0.2],\n",
       "       [5.7, 3.8, 1.7, 0.3],\n",
       "       [5.4, 3.4, 1.5, 0.4],\n",
       "       [4.9, 3. , 1.4, 0.2],\n",
       "       [4.8, 3. , 1.4, 0.1],\n",
       "       [4.9, 3.1, 1.5, 0.2],\n",
       "       [4.8, 3. , 1.4, 0.3],\n",
       "       [5. , 3.4, 1.6, 0.4],\n",
       "       [5.4, 3.9, 1.7, 0.4],\n",
       "       [4.3, 3. , 1.1, 0.1],\n",
       "       [4.6, 3.6, 1. , 0.2],\n",
       "       [5.1, 3.8, 1.5, 0.3],\n",
       "       [5.1, 3.5, 1.4, 0.3],\n",
       "       [5.8, 4. , 1.2, 0.2],\n",
       "       [5. , 3.6, 1.4, 0.2],\n",
       "       [4.5, 2.3, 1.3, 0.3],\n",
       "       [5.5, 4.2, 1.4, 0.2],\n",
       "       [4.8, 3.4, 1.9, 0.2],\n",
       "       [4.8, 3.4, 1.6, 0.2],\n",
       "       [4.4, 3. , 1.3, 0.2],\n",
       "       [5.4, 3.9, 1.3, 0.4],\n",
       "       [5.3, 3.7, 1.5, 0.2],\n",
       "       [5.1, 3.8, 1.6, 0.2],\n",
       "       [5. , 3.3, 1.4, 0.2],\n",
       "       [4.4, 2.9, 1.4, 0.2],\n",
       "       [5. , 3.5, 1.6, 0.6],\n",
       "       [4.7, 3.2, 1.6, 0.2],\n",
       "       [5. , 3. , 1.6, 0.2],\n",
       "       [5.2, 3.4, 1.4, 0.2],\n",
       "       [5.1, 3.5, 1.4, 0.2],\n",
       "       [5.7, 4.4, 1.5, 0.4],\n",
       "       [5.5, 3.5, 1.3, 0.2],\n",
       "       [4.9, 3.1, 1.5, 0.1]])"
      ]
     },
     "execution_count": 54,
     "metadata": {},
     "output_type": "execute_result"
    }
   ],
   "source": [
    "x_train1_xi"
   ]
  },
  {
   "cell_type": "code",
   "execution_count": 55,
   "metadata": {},
   "outputs": [],
   "source": [
    "from math import sqrt\n",
    "from math import pi\n",
    "from math import exp\n",
    "\n",
    "pxici1 = [1] * 40\n",
    "\n",
    "for x in range(0,40):\n",
    "    for y in range(0,4):\n",
    "        if y == 0:\n",
    "            mean = mean1\n",
    "            std = std1\n",
    "        elif y == 1:\n",
    "            mean = mean2\n",
    "            std = std2\n",
    "        elif y == 2:\n",
    "            mean = mean3\n",
    "            std = std3\n",
    "        elif y == 3:\n",
    "            mean = mean4\n",
    "            std = std4\n",
    "            \n",
    "        exponent = exp(-((x_train1_xi[x,y]-mean)**2 / (2 * std**2)))\n",
    "        x_train1_xi[x,y] = (1 / (sqrt(2 * pi) * std)) * exponent\n",
    "        pxici1[x] = pxici1[x] * x_train1_xi[x,y]\n",
    "        "
   ]
  },
  {
   "cell_type": "code",
   "execution_count": 56,
   "metadata": {},
   "outputs": [
    {
     "data": {
      "text/plain": [
       "array([[5.1, 3.4, 1.5, 0.2],\n",
       "       [4.7, 3.2, 1.3, 0.2],\n",
       "       [5. , 3.5, 1.3, 0.3],\n",
       "       [5.2, 4.1, 1.5, 0.1],\n",
       "       [5.4, 3.7, 1.5, 0.2],\n",
       "       [5.1, 3.7, 1.5, 0.4],\n",
       "       [5. , 3.2, 1.2, 0.2],\n",
       "       [5.2, 3.5, 1.5, 0.2],\n",
       "       [5.7, 3.8, 1.7, 0.3],\n",
       "       [5.4, 3.4, 1.5, 0.4],\n",
       "       [4.9, 3. , 1.4, 0.2],\n",
       "       [4.8, 3. , 1.4, 0.1],\n",
       "       [4.9, 3.1, 1.5, 0.2],\n",
       "       [4.8, 3. , 1.4, 0.3],\n",
       "       [5. , 3.4, 1.6, 0.4],\n",
       "       [5.4, 3.9, 1.7, 0.4],\n",
       "       [4.3, 3. , 1.1, 0.1],\n",
       "       [4.6, 3.6, 1. , 0.2],\n",
       "       [5.1, 3.8, 1.5, 0.3],\n",
       "       [5.1, 3.5, 1.4, 0.3],\n",
       "       [5.8, 4. , 1.2, 0.2],\n",
       "       [5. , 3.6, 1.4, 0.2],\n",
       "       [4.5, 2.3, 1.3, 0.3],\n",
       "       [5.5, 4.2, 1.4, 0.2],\n",
       "       [4.8, 3.4, 1.9, 0.2],\n",
       "       [4.8, 3.4, 1.6, 0.2],\n",
       "       [4.4, 3. , 1.3, 0.2],\n",
       "       [5.4, 3.9, 1.3, 0.4],\n",
       "       [5.3, 3.7, 1.5, 0.2],\n",
       "       [5.1, 3.8, 1.6, 0.2],\n",
       "       [5. , 3.3, 1.4, 0.2],\n",
       "       [4.4, 2.9, 1.4, 0.2],\n",
       "       [5. , 3.5, 1.6, 0.6],\n",
       "       [4.7, 3.2, 1.6, 0.2],\n",
       "       [5. , 3. , 1.6, 0.2],\n",
       "       [5.2, 3.4, 1.4, 0.2],\n",
       "       [5.1, 3.5, 1.4, 0.2],\n",
       "       [5.7, 4.4, 1.5, 0.4],\n",
       "       [5.5, 3.5, 1.3, 0.2],\n",
       "       [4.9, 3.1, 1.5, 0.1]])"
      ]
     },
     "execution_count": 56,
     "metadata": {},
     "output_type": "execute_result"
    }
   ],
   "source": [
    "x_train1"
   ]
  },
  {
   "cell_type": "code",
   "execution_count": 57,
   "metadata": {},
   "outputs": [
    {
     "data": {
      "text/plain": [
       "array([[1.12150363, 0.98133823, 2.26739825, 3.5387893 ],\n",
       "       [0.70113109, 0.81887271, 1.66347468, 3.5387893 ],\n",
       "       [1.12605426, 0.9798342 , 1.66347468, 3.37384136],\n",
       "       [1.03007627, 0.26767876, 2.26739825, 1.42884071],\n",
       "       [0.68153599, 0.81261678, 2.26739825, 3.5387893 ],\n",
       "       [1.12150363, 0.81261678, 2.26739825, 1.23820819],\n",
       "       [1.12605426, 0.81887271, 0.82487274, 3.5387893 ],\n",
       "       [1.03007627, 0.9798342 , 2.26739825, 3.5387893 ],\n",
       "       [0.19981262, 0.67497098, 0.7195212 , 3.37384136],\n",
       "       [0.68153599, 0.98133823, 2.26739825, 1.23820819],\n",
       "       [1.04266617, 0.53460702, 2.33021761, 3.5387893 ],\n",
       "       [0.89034554, 0.53460702, 2.33021761, 1.42884071],\n",
       "       [1.04266617, 0.68225692, 2.26739825, 3.5387893 ],\n",
       "       [0.89034554, 0.53460702, 2.33021761, 3.37384136],\n",
       "       [1.12605426, 0.98133823, 1.53253421, 1.23820819],\n",
       "       [0.68153599, 0.52727789, 0.7195212 , 1.23820819],\n",
       "       [0.11995963, 0.53460702, 0.28412454, 1.42884071],\n",
       "       [0.50917515, 0.92011396, 0.06798007, 3.5387893 ],\n",
       "       [1.12150363, 0.67497098, 2.26739825, 3.37384136],\n",
       "       [1.12150363, 0.9798342 , 2.33021761, 3.37384136],\n",
       "       [0.11289004, 0.38739068, 0.82487274, 3.5387893 ],\n",
       "       [1.12605426, 0.92011396, 2.33021761, 3.5387893 ],\n",
       "       [0.34100638, 0.01740146, 1.66347468, 3.37384136],\n",
       "       [0.49095253, 0.17395376, 2.33021761, 3.5387893 ],\n",
       "       [0.89034554, 0.98133823, 0.05315738, 3.5387893 ],\n",
       "       [0.89034554, 0.98133823, 1.53253421, 3.5387893 ],\n",
       "       [0.21061299, 0.53460702, 1.66347468, 3.5387893 ],\n",
       "       [0.68153599, 0.52727789, 1.66347468, 1.23820819],\n",
       "       [0.87249997, 0.81261678, 2.26739825, 3.5387893 ],\n",
       "       [1.12150363, 0.67497098, 1.53253421, 3.5387893 ],\n",
       "       [1.12605426, 0.92435753, 2.33021761, 3.5387893 ],\n",
       "       [0.21061299, 0.39398211, 2.33021761, 3.5387893 ],\n",
       "       [1.12605426, 0.9798342 , 1.53253421, 0.00951325],\n",
       "       [0.70113109, 0.81887271, 1.53253421, 3.5387893 ],\n",
       "       [1.12605426, 0.53460702, 1.53253421, 3.5387893 ],\n",
       "       [1.03007627, 0.98133823, 2.33021761, 3.5387893 ],\n",
       "       [1.12150363, 0.9798342 , 2.33021761, 3.5387893 ],\n",
       "       [0.19981262, 0.06111376, 2.26739825, 1.23820819],\n",
       "       [0.49095253, 0.9798342 , 1.66347468, 3.5387893 ],\n",
       "       [1.04266617, 0.68225692, 2.26739825, 1.42884071]])"
      ]
     },
     "execution_count": 57,
     "metadata": {},
     "output_type": "execute_result"
    }
   ],
   "source": [
    "x_train1_xi"
   ]
  },
  {
   "cell_type": "code",
   "execution_count": 58,
   "metadata": {},
   "outputs": [
    {
     "data": {
      "text/plain": [
       "40"
      ]
     },
     "execution_count": 58,
     "metadata": {},
     "output_type": "execute_result"
    }
   ],
   "source": [
    "len(pxici1)"
   ]
  },
  {
   "cell_type": "code",
   "execution_count": 59,
   "metadata": {},
   "outputs": [
    {
     "data": {
      "text/plain": [
       "[8.83083790355331,\n",
       " 3.379765123614039,\n",
       " 6.192311062728821,\n",
       " 0.8932950380235649,\n",
       " 4.443826495806006,\n",
       " 2.5586327419371138,\n",
       " 2.6916424447735308,\n",
       " 8.098498262599678,\n",
       " 0.32739818704324664,\n",
       " 1.8777120433403969,\n",
       " 4.5965408355126645,\n",
       " 1.5847966165569647,\n",
       " 5.707892026566723,\n",
       " 3.7420912975578546,\n",
       " 2.0969201171934966,\n",
       " 0.32015893063608886,\n",
       " 0.026035285661180543,\n",
       " 0.11270550206934962,\n",
       " 5.790795806993134,\n",
       " 8.639217673130265,\n",
       " 0.12765753389293943,\n",
       " 8.543820596403554,\n",
       " 0.03330343173908088,\n",
       " 0.7042461685193847,\n",
       " 0.16435978273295934,\n",
       " 4.738514224036806,\n",
       " 0.6628125184210838,\n",
       " 0.7401814932859735,\n",
       " 5.68897103394944,\n",
       " 4.10535454221079,\n",
       " 8.583224749461893,\n",
       " 0.6842468937312872,\n",
       " 0.01608610814924556,\n",
       " 3.113726800225159,\n",
       " 3.2648170797593865,\n",
       " 8.335646458388396,\n",
       " 9.061591152420572,\n",
       " 0.034283364143876095,\n",
       " 2.831802718805751,\n",
       " 2.304649357292146]"
      ]
     },
     "execution_count": 59,
     "metadata": {},
     "output_type": "execute_result"
    }
   ],
   "source": [
    "pxici1"
   ]
  },
  {
   "cell_type": "code",
   "execution_count": null,
   "metadata": {},
   "outputs": [],
   "source": []
  },
  {
   "cell_type": "markdown",
   "metadata": {},
   "source": [
    "#### Likelihood for category 2"
   ]
  },
  {
   "cell_type": "code",
   "execution_count": 60,
   "metadata": {},
   "outputs": [
    {
     "data": {
      "text/plain": [
       "(40, 4)"
      ]
     },
     "execution_count": 60,
     "metadata": {},
     "output_type": "execute_result"
    }
   ],
   "source": [
    "np.shape(x_train2)"
   ]
  },
  {
   "cell_type": "code",
   "execution_count": 61,
   "metadata": {},
   "outputs": [
    {
     "data": {
      "text/plain": [
       "array([5.5, 6.9, 5.5, 5.8, 5. , 6.1, 6. , 6.7, 6.2, 5.5, 6.4, 6. , 5.4,\n",
       "       5.7, 6.8, 5.7, 6.1, 6.3, 5.6, 5.8, 5.6, 6.5, 6.1, 6. , 6.4, 5.9,\n",
       "       5.6, 5.6, 5.1, 5.7, 5.7, 6.6, 5. , 5.7, 6.6, 6. , 7. , 6.7, 6.7,\n",
       "       5.2])"
      ]
     },
     "execution_count": 61,
     "metadata": {},
     "output_type": "execute_result"
    }
   ],
   "source": [
    "x_train2[:,0]"
   ]
  },
  {
   "cell_type": "code",
   "execution_count": 62,
   "metadata": {},
   "outputs": [],
   "source": [
    "# likelihood calculation p(xi/ci)\n",
    "# case 1 : where ci = c1 i.e., Category 1 - setosa\n",
    "\n",
    "# mean and std calculation for C1 - xtrain1 values\n",
    "\n",
    "# mean and std for column 1 - C1\n",
    "type(x_train2)\n",
    "mean1 = np.mean(x_train2[:,0])\n",
    "std1 = np.std(x_train2[:,0])\n",
    "\n",
    "# mean std for column 2 - C2\n",
    "mean2 = np.mean(x_train2[:,1])\n",
    "std2 = np.std(x_train2[:,1])\n",
    "\n",
    "# mean std for column 3 - C3\n",
    "mean3 = np.mean(x_train2[:,2])\n",
    "std3 = np.std(x_train2[:,2])\n",
    "\n",
    "# mean std for column 4 - C4\n",
    "mean4 = np.mean(x_train2[:,3])\n",
    "std4 = np.std(x_train2[:,3])\n",
    "\n",
    "#  x_train1_xi contains p(xk / Ci) where Ci = category 1 - setosa\n",
    "x_train2_xi = np.copy(x_train2)\n"
   ]
  },
  {
   "cell_type": "code",
   "execution_count": 63,
   "metadata": {},
   "outputs": [
    {
     "data": {
      "text/plain": [
       "array([[5.5, 2.5, 4. , 1.3],\n",
       "       [6.9, 3.1, 4.9, 1.5],\n",
       "       [5.5, 2.6, 4.4, 1.2],\n",
       "       [5.8, 2.7, 3.9, 1.2],\n",
       "       [5. , 2. , 3.5, 1. ],\n",
       "       [6.1, 2.8, 4. , 1.3],\n",
       "       [6. , 3.4, 4.5, 1.6],\n",
       "       [6.7, 3. , 5. , 1.7],\n",
       "       [6.2, 2.2, 4.5, 1.5],\n",
       "       [5.5, 2.4, 3.7, 1. ],\n",
       "       [6.4, 3.2, 4.5, 1.5],\n",
       "       [6. , 2.2, 4. , 1. ],\n",
       "       [5.4, 3. , 4.5, 1.5],\n",
       "       [5.7, 3. , 4.2, 1.2],\n",
       "       [6.8, 2.8, 4.8, 1.4],\n",
       "       [5.7, 2.8, 4.5, 1.3],\n",
       "       [6.1, 2.9, 4.7, 1.4],\n",
       "       [6.3, 2.5, 4.9, 1.5],\n",
       "       [5.6, 2.5, 3.9, 1.1],\n",
       "       [5.8, 2.7, 4.1, 1. ],\n",
       "       [5.6, 2.9, 3.6, 1.3],\n",
       "       [6.5, 2.8, 4.6, 1.5],\n",
       "       [6.1, 3. , 4.6, 1.4],\n",
       "       [6. , 2.7, 5.1, 1.6],\n",
       "       [6.4, 2.9, 4.3, 1.3],\n",
       "       [5.9, 3. , 4.2, 1.5],\n",
       "       [5.6, 3. , 4.1, 1.3],\n",
       "       [5.6, 3. , 4.5, 1.5],\n",
       "       [5.1, 2.5, 3. , 1.1],\n",
       "       [5.7, 2.9, 4.2, 1.3],\n",
       "       [5.7, 2.8, 4.1, 1.3],\n",
       "       [6.6, 2.9, 4.6, 1.3],\n",
       "       [5. , 2.3, 3.3, 1. ],\n",
       "       [5.7, 2.6, 3.5, 1. ],\n",
       "       [6.6, 3. , 4.4, 1.4],\n",
       "       [6. , 2.9, 4.5, 1.5],\n",
       "       [7. , 3.2, 4.7, 1.4],\n",
       "       [6.7, 3.1, 4.4, 1.4],\n",
       "       [6.7, 3.1, 4.7, 1.5],\n",
       "       [5.2, 2.7, 3.9, 1.4]])"
      ]
     },
     "execution_count": 63,
     "metadata": {},
     "output_type": "execute_result"
    }
   ],
   "source": [
    "x_train2_xi"
   ]
  },
  {
   "cell_type": "code",
   "execution_count": 64,
   "metadata": {},
   "outputs": [],
   "source": [
    "from math import sqrt\n",
    "from math import pi\n",
    "from math import exp\n",
    "\n",
    "pxici2 = [1] * 40\n",
    "\n",
    "for x in range(0,40):\n",
    "    for y in range(0,4):\n",
    "        if y == 0:\n",
    "            mean = mean1\n",
    "            std = std1\n",
    "        elif y == 1:\n",
    "            mean = mean2\n",
    "            std = std2\n",
    "        elif y == 2:\n",
    "            mean = mean3\n",
    "            std = std3\n",
    "        elif y == 3:\n",
    "            mean = mean4\n",
    "            std = std4\n",
    "            \n",
    "        exponent = exp(-((x_train2_xi[x,y]-mean)**2 / (2 * std**2)))\n",
    "        x_train2_xi[x,y] = (1 / (sqrt(2 * pi) * std)) * exponent\n",
    "        pxici2[x] = pxici2[x] * x_train2_xi[x,y]"
   ]
  },
  {
   "cell_type": "code",
   "execution_count": 65,
   "metadata": {},
   "outputs": [
    {
     "data": {
      "text/plain": [
       "array([[5.5, 2.5, 4. , 1.3],\n",
       "       [6.9, 3.1, 4.9, 1.5],\n",
       "       [5.5, 2.6, 4.4, 1.2],\n",
       "       [5.8, 2.7, 3.9, 1.2],\n",
       "       [5. , 2. , 3.5, 1. ],\n",
       "       [6.1, 2.8, 4. , 1.3],\n",
       "       [6. , 3.4, 4.5, 1.6],\n",
       "       [6.7, 3. , 5. , 1.7],\n",
       "       [6.2, 2.2, 4.5, 1.5],\n",
       "       [5.5, 2.4, 3.7, 1. ],\n",
       "       [6.4, 3.2, 4.5, 1.5],\n",
       "       [6. , 2.2, 4. , 1. ],\n",
       "       [5.4, 3. , 4.5, 1.5],\n",
       "       [5.7, 3. , 4.2, 1.2],\n",
       "       [6.8, 2.8, 4.8, 1.4],\n",
       "       [5.7, 2.8, 4.5, 1.3],\n",
       "       [6.1, 2.9, 4.7, 1.4],\n",
       "       [6.3, 2.5, 4.9, 1.5],\n",
       "       [5.6, 2.5, 3.9, 1.1],\n",
       "       [5.8, 2.7, 4.1, 1. ],\n",
       "       [5.6, 2.9, 3.6, 1.3],\n",
       "       [6.5, 2.8, 4.6, 1.5],\n",
       "       [6.1, 3. , 4.6, 1.4],\n",
       "       [6. , 2.7, 5.1, 1.6],\n",
       "       [6.4, 2.9, 4.3, 1.3],\n",
       "       [5.9, 3. , 4.2, 1.5],\n",
       "       [5.6, 3. , 4.1, 1.3],\n",
       "       [5.6, 3. , 4.5, 1.5],\n",
       "       [5.1, 2.5, 3. , 1.1],\n",
       "       [5.7, 2.9, 4.2, 1.3],\n",
       "       [5.7, 2.8, 4.1, 1.3],\n",
       "       [6.6, 2.9, 4.6, 1.3],\n",
       "       [5. , 2.3, 3.3, 1. ],\n",
       "       [5.7, 2.6, 3.5, 1. ],\n",
       "       [6.6, 3. , 4.4, 1.4],\n",
       "       [6. , 2.9, 4.5, 1.5],\n",
       "       [7. , 3.2, 4.7, 1.4],\n",
       "       [6.7, 3.1, 4.4, 1.4],\n",
       "       [6.7, 3.1, 4.7, 1.5],\n",
       "       [5.2, 2.7, 3.9, 1.4]])"
      ]
     },
     "execution_count": 65,
     "metadata": {},
     "output_type": "execute_result"
    }
   ],
   "source": [
    "x_train2"
   ]
  },
  {
   "cell_type": "code",
   "execution_count": 66,
   "metadata": {},
   "outputs": [
    {
     "data": {
      "text/plain": [
       "array([[0.51096251, 0.8336187 , 0.71948042, 2.08783123],\n",
       "       [0.1575756 , 0.77950726, 0.34578914, 1.40898193],\n",
       "       [0.51096251, 1.09032651, 0.81661589, 1.66763547],\n",
       "       [0.72092826, 1.27516649, 0.62253411, 1.66763547],\n",
       "       [0.13973341, 0.04067615, 0.22198078, 0.45807237],\n",
       "       [0.73473778, 1.33351656, 0.71948042, 2.08783123],\n",
       "       [0.75697486, 0.16650708, 0.75276848, 0.75948849],\n",
       "       [0.28762389, 1.0426176 , 0.25423932, 0.30913212],\n",
       "       [0.68784002, 0.19042645, 0.75276848, 1.40898193],\n",
       "       [0.51096251, 0.56990114, 0.40693417, 0.45807237],\n",
       "       [0.54089131, 0.52111849, 0.75276848, 1.40898193],\n",
       "       [0.75697486, 0.19042645, 0.71948042, 0.45807237],\n",
       "       [0.42380199, 1.0426176 , 0.75276848, 1.40898193],\n",
       "       [0.66642851, 1.0426176 , 0.83907986, 1.66763547],\n",
       "       [0.21677285, 1.33351656, 0.44950812, 1.97377127],\n",
       "       [0.66642851, 1.33351656, 0.75276848, 2.08783123],\n",
       "       [0.73473778, 1.24695601, 0.55849756, 1.97377127],\n",
       "       [0.62107872, 0.8336187 , 0.34578914, 1.40898193],\n",
       "       [0.59418164, 0.8336187 , 0.62253411, 1.00580555],\n",
       "       [0.72092826, 1.27516649, 0.79475334, 0.45807237],\n",
       "       [0.59418164, 1.24695601, 0.30742628, 2.08783123],\n",
       "       [0.45433638, 1.33351656, 0.66322758, 1.40898193],\n",
       "       [0.73473778, 1.0426176 , 0.66322758, 1.97377127],\n",
       "       [0.75697486, 1.27516649, 0.17866177, 0.75948849],\n",
       "       [0.54089131, 1.24695601, 0.84670434, 2.08783123],\n",
       "       [0.75220234, 1.0426176 , 0.83907986, 1.40898193],\n",
       "       [0.59418164, 1.0426176 , 0.79475334, 2.08783123],\n",
       "       [0.59418164, 1.0426176 , 0.75276848, 1.40898193],\n",
       "       [0.19467479, 0.8336187 , 0.02210806, 1.00580555],\n",
       "       [0.66642851, 1.24695601, 0.83907986, 2.08783123],\n",
       "       [0.66642851, 1.33351656, 0.79475334, 2.08783123],\n",
       "       [0.36808588, 1.24695601, 0.66322758, 2.08783123],\n",
       "       [0.13973341, 0.34837967, 0.10105012, 0.45807237],\n",
       "       [0.66642851, 1.09032651, 0.22198078, 0.45807237],\n",
       "       [0.36808588, 1.0426176 , 0.81661589, 1.97377127],\n",
       "       [0.75697486, 1.24695601, 0.75276848, 1.40898193],\n",
       "       [0.11047836, 0.52111849, 0.55849756, 1.97377127],\n",
       "       [0.28762389, 0.77950726, 0.81661589, 1.97377127],\n",
       "       [0.28762389, 0.77950726, 0.55849756, 1.40898193],\n",
       "       [0.26159132, 1.27516649, 0.62253411, 1.97377127]])"
      ]
     },
     "execution_count": 66,
     "metadata": {},
     "output_type": "execute_result"
    }
   ],
   "source": [
    "x_train2_xi"
   ]
  },
  {
   "cell_type": "code",
   "execution_count": 67,
   "metadata": {},
   "outputs": [
    {
     "data": {
      "text/plain": [
       "40"
      ]
     },
     "execution_count": 67,
     "metadata": {},
     "output_type": "execute_result"
    }
   ],
   "source": [
    "len(pxici2)"
   ]
  },
  {
   "cell_type": "code",
   "execution_count": 68,
   "metadata": {},
   "outputs": [
    {
     "data": {
      "text/plain": [
       "[0.6398392134262934,\n",
       " 0.05984473114576828,\n",
       " 0.7586903477016368,\n",
       " 0.9543841486747338,\n",
       " 0.0005779490522502763,\n",
       " 1.4717876503504235,\n",
       " 0.07206041926486327,\n",
       " 0.023568766477977315,\n",
       " 0.13892537000415395,\n",
       " 0.05428087205874855,\n",
       " 0.298960175785777,\n",
       " 0.04750745901141119,\n",
       " 0.4686567642885456,\n",
       " 0.9722613820456885,\n",
       " 0.25647064631019745,\n",
       " 1.3967182041864896,\n",
       " 1.0099540372432052,\n",
       " 0.2522498264769989,\n",
       " 0.3101443362199584,\n",
       " 0.33467663903926886,\n",
       " 0.4755615606132363,\n",
       " 0.5661661798019884,\n",
       " 1.0028057667901409,\n",
       " 0.13097885234842332,\n",
       " 1.1923076030064104,\n",
       " 0.9271893811968986,\n",
       " 1.0279500893044724,\n",
       " 0.6570692277953151,\n",
       " 0.003608625650006524,\n",
       " 1.4558055925322897,\n",
       " 1.4746186722536052,\n",
       " 0.6355624860597118,\n",
       " 0.002253325731555215,\n",
       " 0.07388556790532338,\n",
       " 0.6185700077029543,\n",
       " 1.001150652971002,\n",
       " 0.0634646359212756,\n",
       " 0.3613763852593728,\n",
       " 0.1764297522803866,\n",
       " 0.4098738397014283]"
      ]
     },
     "execution_count": 68,
     "metadata": {},
     "output_type": "execute_result"
    }
   ],
   "source": [
    "pxici2"
   ]
  },
  {
   "cell_type": "code",
   "execution_count": null,
   "metadata": {},
   "outputs": [],
   "source": []
  },
  {
   "cell_type": "markdown",
   "metadata": {},
   "source": [
    "#### Likelihood for category 3"
   ]
  },
  {
   "cell_type": "code",
   "execution_count": 69,
   "metadata": {},
   "outputs": [
    {
     "data": {
      "text/plain": [
       "(40, 4)"
      ]
     },
     "execution_count": 69,
     "metadata": {},
     "output_type": "execute_result"
    }
   ],
   "source": [
    "np.shape(x_train3)"
   ]
  },
  {
   "cell_type": "code",
   "execution_count": 70,
   "metadata": {},
   "outputs": [],
   "source": [
    "# likelihood calculation p(xi/ci)\n",
    "# case 1 : where ci = c1 i.e., Category 1 - setosa\n",
    "\n",
    "# mean and std calculation for C1 - xtrain1 values\n",
    "\n",
    "# mean and std for column 1 - C1\n",
    "type(x_train3)\n",
    "mean1 = np.mean(x_train3[:,0])\n",
    "std1 = np.std(x_train3[:,0])\n",
    "\n",
    "# mean std for column 2 - C2\n",
    "mean2 = np.mean(x_train3[:,1])\n",
    "std2 = np.std(x_train3[:,1])\n",
    "\n",
    "# mean std for column 3 - C3\n",
    "mean3 = np.mean(x_train3[:,2])\n",
    "std3 = np.std(x_train3[:,2])\n",
    "\n",
    "# mean std for column 4 - C4\n",
    "mean4 = np.mean(x_train3[:,3])\n",
    "std4 = np.std(x_train3[:,3])\n",
    "\n",
    "#  x_train1_xi contains p(xk / Ci) where Ci = category 1 - setosa\n",
    "x_train3_xi = np.copy(x_train3)"
   ]
  },
  {
   "cell_type": "code",
   "execution_count": 71,
   "metadata": {},
   "outputs": [
    {
     "data": {
      "text/plain": [
       "array([[6.9, 3.1, 5.4, 2.1],\n",
       "       [7.1, 3. , 5.9, 2.1],\n",
       "       [6.7, 3.1, 5.6, 2.4],\n",
       "       [6.4, 2.8, 5.6, 2.2],\n",
       "       [6.5, 3.2, 5.1, 2. ],\n",
       "       [5.6, 2.8, 4.9, 2. ],\n",
       "       [7.7, 3. , 6.1, 2.3],\n",
       "       [6.1, 3. , 4.9, 1.8],\n",
       "       [7.7, 2.6, 6.9, 2.3],\n",
       "       [7.9, 3.8, 6.4, 2. ],\n",
       "       [5.8, 2.7, 5.1, 1.9],\n",
       "       [6.8, 3. , 5.5, 2.1],\n",
       "       [6.1, 2.6, 5.6, 1.4],\n",
       "       [6.7, 3. , 5.2, 2.3],\n",
       "       [6.2, 2.8, 4.8, 1.8],\n",
       "       [7.6, 3. , 6.6, 2.1],\n",
       "       [5.7, 2.5, 5. , 2. ],\n",
       "       [7.7, 2.8, 6.7, 2. ],\n",
       "       [6. , 2.2, 5. , 1.5],\n",
       "       [7.7, 3.8, 6.7, 2.2],\n",
       "       [5.8, 2.8, 5.1, 2.4],\n",
       "       [6.5, 3. , 5.8, 2.2],\n",
       "       [6.9, 3.1, 5.1, 2.3],\n",
       "       [6.3, 2.8, 5.1, 1.5],\n",
       "       [6.7, 3.3, 5.7, 2.1],\n",
       "       [6.4, 2.7, 5.3, 1.9],\n",
       "       [6. , 3. , 4.8, 1.8],\n",
       "       [6.5, 3. , 5.5, 1.8],\n",
       "       [6.2, 3.4, 5.4, 2.3],\n",
       "       [6.3, 2.5, 5. , 1.9],\n",
       "       [5.9, 3. , 5.1, 1.8],\n",
       "       [6.7, 2.5, 5.8, 1.8],\n",
       "       [6.8, 3.2, 5.9, 2.3],\n",
       "       [7.2, 3. , 5.8, 1.6],\n",
       "       [7.2, 3.2, 6. , 1.8],\n",
       "       [6.4, 2.8, 5.6, 2.1],\n",
       "       [6.3, 3.3, 6. , 2.5],\n",
       "       [6.4, 3.2, 5.3, 2.3],\n",
       "       [6.3, 3.4, 5.6, 2.4],\n",
       "       [7.2, 3.6, 6.1, 2.5]])"
      ]
     },
     "execution_count": 71,
     "metadata": {},
     "output_type": "execute_result"
    }
   ],
   "source": [
    "x_train3_xi"
   ]
  },
  {
   "cell_type": "code",
   "execution_count": 72,
   "metadata": {},
   "outputs": [],
   "source": [
    "from math import sqrt\n",
    "from math import pi\n",
    "from math import exp\n",
    "\n",
    "pxici3 = [1] * 40\n",
    "\n",
    "for x in range(0,40):\n",
    "    for y in range(0,4):\n",
    "        if y == 0:\n",
    "            mean = mean1\n",
    "            std = std1\n",
    "        elif y == 1:\n",
    "            mean = mean2\n",
    "            std = std2\n",
    "        elif y == 2:\n",
    "            mean = mean3\n",
    "            std = std3\n",
    "        elif y == 3:\n",
    "            mean = mean4\n",
    "            std = std4\n",
    "            \n",
    "        exponent = exp(-((x_train3_xi[x,y]-mean)**2 / (2 * std**2)))\n",
    "        x_train3_xi[x,y] = (1 / (sqrt(2 * pi) * std)) * exponent\n",
    "        pxici3[x] = pxici3[x] * x_train3_xi[x,y]"
   ]
  },
  {
   "cell_type": "code",
   "execution_count": 73,
   "metadata": {},
   "outputs": [
    {
     "data": {
      "text/plain": [
       "array([[6.9, 3.1, 5.4, 2.1],\n",
       "       [7.1, 3. , 5.9, 2.1],\n",
       "       [6.7, 3.1, 5.6, 2.4],\n",
       "       [6.4, 2.8, 5.6, 2.2],\n",
       "       [6.5, 3.2, 5.1, 2. ],\n",
       "       [5.6, 2.8, 4.9, 2. ],\n",
       "       [7.7, 3. , 6.1, 2.3],\n",
       "       [6.1, 3. , 4.9, 1.8],\n",
       "       [7.7, 2.6, 6.9, 2.3],\n",
       "       [7.9, 3.8, 6.4, 2. ],\n",
       "       [5.8, 2.7, 5.1, 1.9],\n",
       "       [6.8, 3. , 5.5, 2.1],\n",
       "       [6.1, 2.6, 5.6, 1.4],\n",
       "       [6.7, 3. , 5.2, 2.3],\n",
       "       [6.2, 2.8, 4.8, 1.8],\n",
       "       [7.6, 3. , 6.6, 2.1],\n",
       "       [5.7, 2.5, 5. , 2. ],\n",
       "       [7.7, 2.8, 6.7, 2. ],\n",
       "       [6. , 2.2, 5. , 1.5],\n",
       "       [7.7, 3.8, 6.7, 2.2],\n",
       "       [5.8, 2.8, 5.1, 2.4],\n",
       "       [6.5, 3. , 5.8, 2.2],\n",
       "       [6.9, 3.1, 5.1, 2.3],\n",
       "       [6.3, 2.8, 5.1, 1.5],\n",
       "       [6.7, 3.3, 5.7, 2.1],\n",
       "       [6.4, 2.7, 5.3, 1.9],\n",
       "       [6. , 3. , 4.8, 1.8],\n",
       "       [6.5, 3. , 5.5, 1.8],\n",
       "       [6.2, 3.4, 5.4, 2.3],\n",
       "       [6.3, 2.5, 5. , 1.9],\n",
       "       [5.9, 3. , 5.1, 1.8],\n",
       "       [6.7, 2.5, 5.8, 1.8],\n",
       "       [6.8, 3.2, 5.9, 2.3],\n",
       "       [7.2, 3. , 5.8, 1.6],\n",
       "       [7.2, 3.2, 6. , 1.8],\n",
       "       [6.4, 2.8, 5.6, 2.1],\n",
       "       [6.3, 3.3, 6. , 2.5],\n",
       "       [6.4, 3.2, 5.3, 2.3],\n",
       "       [6.3, 3.4, 5.6, 2.4],\n",
       "       [7.2, 3.6, 6.1, 2.5]])"
      ]
     },
     "execution_count": 73,
     "metadata": {},
     "output_type": "execute_result"
    }
   ],
   "source": [
    "x_train3"
   ]
  },
  {
   "cell_type": "code",
   "execution_count": 74,
   "metadata": {},
   "outputs": [
    {
     "data": {
      "text/plain": [
       "array([[0.59088393, 1.12758876, 0.68865176, 1.41882501],\n",
       "       [0.4818823 , 1.18941584, 0.60857875, 1.41882501],\n",
       "       [0.65034461, 1.12758876, 0.72355711, 0.63150607],\n",
       "       [0.61324057, 1.01340905, 0.72355711, 1.2356853 ],\n",
       "       [0.64248806, 0.97797885, 0.49937199, 1.42819325],\n",
       "       [0.15976396, 1.01340905, 0.34181938, 1.42819325],\n",
       "       [0.13669049, 1.18941584, 0.45987055, 0.94346135],\n",
       "       [0.45347   , 1.18941584, 0.34181938, 0.9750229 ],\n",
       "       [0.13669049, 0.60489869, 0.04011377, 0.94346135],\n",
       "       [0.07235986, 0.0642684 , 0.23591093, 1.42819325],\n",
       "       [0.26296418, 0.81856442, 0.49937199, 1.26032428],\n",
       "       [0.62833007, 1.18941584, 0.71761904, 1.41882501],\n",
       "       [0.45347   , 0.60489869, 0.72355711, 0.09365193],\n",
       "       [0.65034461, 1.18941584, 0.57446659, 0.94346135],\n",
       "       [0.51519617, 1.01340905, 0.26915955, 0.9750229 ],\n",
       "       [0.18041126, 1.18941584, 0.12820723, 1.41882501],\n",
       "       [0.20775557, 0.40895369, 0.42001824, 1.42819325],\n",
       "       [0.13669049, 1.01340905, 0.08995423, 1.42819325],\n",
       "       [0.38850314, 0.0741001 , 0.42001824, 0.20494412],\n",
       "       [0.13669049, 0.0642684 , 0.08995423, 1.2356853 ],\n",
       "       [0.26296418, 1.01340905, 0.49937199, 0.63150607],\n",
       "       [0.64248806, 1.18941584, 0.66632212, 1.2356853 ],\n",
       "       [0.59088393, 1.12758876, 0.49937199, 0.94346135],\n",
       "       [0.56972691, 1.01340905, 0.49937199, 0.20494412],\n",
       "       [0.65034461, 0.77601458, 0.70588871, 1.41882501],\n",
       "       [0.61324057, 0.81856442, 0.63942548, 1.26032428],\n",
       "       [0.38850314, 1.18941584, 0.26915955, 0.9750229 ],\n",
       "       [0.64248806, 1.18941584, 0.71761904, 0.9750229 ],\n",
       "       [0.51519617, 0.56334184, 0.68865176, 0.94346135],\n",
       "       [0.56972691, 0.40895369, 0.42001824, 1.26032428],\n",
       "       [0.32397429, 1.18941584, 0.49937199, 0.9750229 ],\n",
       "       [0.65034461, 0.40895369, 0.66632212, 0.9750229 ],\n",
       "       [0.62833007, 0.97797885, 0.60857875, 0.94346135],\n",
       "       [0.41789332, 1.18941584, 0.66632212, 0.39317998],\n",
       "       [0.41789332, 0.97797885, 0.53781623, 0.9750229 ],\n",
       "       [0.61324057, 1.01340905, 0.72355711, 1.41882501],\n",
       "       [0.56972691, 0.77601458, 0.53781623, 0.37056818],\n",
       "       [0.61324057, 0.97797885, 0.63942548, 0.94346135],\n",
       "       [0.56972691, 0.56334184, 0.72355711, 0.63150607],\n",
       "       [0.41789332, 0.22733241, 0.45987055, 0.37056818]])"
      ]
     },
     "execution_count": 74,
     "metadata": {},
     "output_type": "execute_result"
    }
   ],
   "source": [
    "x_train3_xi"
   ]
  },
  {
   "cell_type": "code",
   "execution_count": 75,
   "metadata": {},
   "outputs": [
    {
     "data": {
      "text/plain": [
       "40"
      ]
     },
     "execution_count": 75,
     "metadata": {},
     "output_type": "execute_result"
    }
   ],
   "source": [
    "len(pxici3)"
   ]
  },
  {
   "cell_type": "code",
   "execution_count": 76,
   "metadata": {},
   "outputs": [
    {
     "data": {
      "text/plain": [
       "[0.6510006456901118,\n",
       " 0.4949032592466037,\n",
       " 0.3350770046788059,\n",
       " 0.5556436469520054,\n",
       " 0.4481317129468746,\n",
       " 0.07904005901556835,\n",
       " 0.07053939167993238,\n",
       " 0.1797602997916277,\n",
       " 0.003129237411131863,\n",
       " 0.001566860160404727,\n",
       " 0.13547399579818506,\n",
       " 0.7609293804979936,\n",
       " 0.018587489708638067,\n",
       " 0.4192433176153132,\n",
       " 0.13701938526907295,\n",
       " 0.0390336096317092,\n",
       " 0.050966163217172705,\n",
       " 0.017796379120577074,\n",
       " 0.002478089212479181,\n",
       " 0.000976484336153128,\n",
       " 0.08403942708725969,\n",
       " 0.6292031516653795,\n",
       " 0.31390715326409396,\n",
       " 0.05908961490550715,\n",
       " 0.505450349171367,\n",
       " 0.4045348856499341,\n",
       " 0.12126985510651239,\n",
       " 0.5346967572268806,\n",
       " 0.18856817975020274,\n",
       " 0.12333641411908225,\n",
       " 0.18762178306577457,\n",
       " 0.17278924891854341,\n",
       " 0.35282406570264596,\n",
       " 0.1302191249513944,\n",
       " 0.2143105801214908,\n",
       " 0.6379950485305881,\n",
       " 0.08811272925727617,\n",
       " 0.3618048516293738,\n",
       " 0.14665236859742614,\n",
       " 0.016189390895884552]"
      ]
     },
     "execution_count": 76,
     "metadata": {},
     "output_type": "execute_result"
    }
   ],
   "source": [
    "pxici3"
   ]
  },
  {
   "cell_type": "code",
   "execution_count": null,
   "metadata": {},
   "outputs": [],
   "source": []
  },
  {
   "cell_type": "code",
   "execution_count": null,
   "metadata": {},
   "outputs": [],
   "source": []
  },
  {
   "cell_type": "markdown",
   "metadata": {},
   "source": [
    "## priori"
   ]
  },
  {
   "cell_type": "code",
   "execution_count": 77,
   "metadata": {},
   "outputs": [],
   "source": [
    "# Priori probabilities of individual categories are evaluated using the sample population\n",
    "# P(C1) = prior probability of category being \"setosa\"\n",
    "pc1 = len(x_train1) / len(x_train)\n",
    "pc2 = len(x_train2) / len(x_train)\n",
    "pc3 = len(x_train3) / len(x_train)"
   ]
  },
  {
   "cell_type": "code",
   "execution_count": 78,
   "metadata": {},
   "outputs": [
    {
     "data": {
      "text/plain": [
       "0.3333333333333333"
      ]
     },
     "execution_count": 78,
     "metadata": {},
     "output_type": "execute_result"
    }
   ],
   "source": [
    "len(x_train1)\n",
    "len(x_train3)\n",
    "len(x_train)\n",
    "# len(x)\n",
    "pc1"
   ]
  },
  {
   "cell_type": "code",
   "execution_count": 79,
   "metadata": {},
   "outputs": [
    {
     "data": {
      "text/plain": [
       "0.3333333333333333"
      ]
     },
     "execution_count": 79,
     "metadata": {},
     "output_type": "execute_result"
    }
   ],
   "source": [
    "pc2"
   ]
  },
  {
   "cell_type": "code",
   "execution_count": 80,
   "metadata": {},
   "outputs": [
    {
     "data": {
      "text/plain": [
       "0.3333333333333333"
      ]
     },
     "execution_count": 80,
     "metadata": {},
     "output_type": "execute_result"
    }
   ],
   "source": [
    "pc3"
   ]
  },
  {
   "cell_type": "markdown",
   "metadata": {},
   "source": [
    "## Posterior"
   ]
  },
  {
   "cell_type": "code",
   "execution_count": 81,
   "metadata": {},
   "outputs": [],
   "source": [
    "\n",
    "# P(Cj/x) : Posterior probability is estimated using likelihood and Prior probability by maximizing these two factors, the\n",
    "#             categorization is made.\n",
    "\n",
    "from math import sqrt\n",
    "from math import pi\n",
    "from math import exp\n",
    "    \n",
    "def posterior(x_testx,for_category,pci):\n",
    "# Likelihood calculation for the test data using continuous attribute formula\n",
    "\n",
    "# likelihood calculation p(xi/ci)\n",
    "\n",
    "# mean and std calculation for xtest values\n",
    "\n",
    "    # mean and std for column 1 - C1\n",
    "    mean1 = np.mean(for_category[:,0])\n",
    "    std1 = np.std(for_category[:,0])\n",
    "\n",
    "    # mean std for column 2 - C2\n",
    "    mean2 = np.mean(for_category[:,1])\n",
    "    std2 = np.std(for_category[:,1])\n",
    "\n",
    "    # mean std for column 3 - C3\n",
    "    mean3 = np.mean(for_category[:,2])\n",
    "    std3 = np.std(for_category[:,2])\n",
    "\n",
    "    # mean std for column 4 - C4\n",
    "    mean4 = np.mean(for_category[:,3])\n",
    "    std4 = np.std(for_category[:,3])\n",
    "\n",
    "    #  x_test_xi contains p(xk / Ci) where Ci can be category 1,2,3\n",
    "    x_testx_xi = np.copy(x_testx)\n",
    "\n",
    "    # test data array is of 10 tuples per category\n",
    "    pxici = [1.0] * 10\n",
    "\n",
    "    for x in range(0,10):\n",
    "        for y in range(0,4):\n",
    "            if y == 0:\n",
    "                mean = mean1\n",
    "                std = std1\n",
    "            elif y == 1:\n",
    "                mean = mean2\n",
    "                std = std2\n",
    "            elif y == 2:\n",
    "                mean = mean3\n",
    "                std = std3\n",
    "            elif y == 3:\n",
    "                mean = mean4\n",
    "                std = std4\n",
    "\n",
    "            exponent = exp(-((x_testx_xi[x,y]-mean)**2 / (2 * std**2)))\n",
    "            x_testx_xi[x,y] = (1 / (sqrt(2 * pi) * std)) * exponent\n",
    "            pxici[x] = pxici[x] * x_testx_xi[x,y]\n",
    "        pxici[x]*pci\n",
    "    return pxici"
   ]
  },
  {
   "cell_type": "code",
   "execution_count": 82,
   "metadata": {},
   "outputs": [],
   "source": [
    "# calculating posterior using likelihood for testing - test sets in all 3 training categories"
   ]
  },
  {
   "cell_type": "markdown",
   "metadata": {},
   "source": [
    "### For test set1 which is actually category 1"
   ]
  },
  {
   "cell_type": "code",
   "execution_count": 83,
   "metadata": {},
   "outputs": [],
   "source": [
    "# category 1 posterior probabilies"
   ]
  },
  {
   "cell_type": "code",
   "execution_count": 84,
   "metadata": {},
   "outputs": [],
   "source": [
    "pxici_test1 = posterior(x_test1,x_train1,pc1)"
   ]
  },
  {
   "cell_type": "code",
   "execution_count": 85,
   "metadata": {},
   "outputs": [
    {
     "data": {
      "text/plain": [
       "[3.1942374571539887,\n",
       " 0.13048061998572416,\n",
       " 0.04982450674033518,\n",
       " 1.0152487041869456,\n",
       " 3.438228836815935,\n",
       " 1.7029653351123537,\n",
       " 2.7873895231730006,\n",
       " 3.294362785410008,\n",
       " 8.86667002289597,\n",
       " 3.9283217683101372]"
      ]
     },
     "execution_count": 85,
     "metadata": {},
     "output_type": "execute_result"
    }
   ],
   "source": [
    "pxici_test1"
   ]
  },
  {
   "cell_type": "code",
   "execution_count": null,
   "metadata": {},
   "outputs": [],
   "source": []
  },
  {
   "cell_type": "code",
   "execution_count": 86,
   "metadata": {},
   "outputs": [],
   "source": [
    "# category 2 posterior probabilies"
   ]
  },
  {
   "cell_type": "code",
   "execution_count": 87,
   "metadata": {},
   "outputs": [],
   "source": [
    "pxici_test1_forc2 = posterior(x_test1,x_train2,pc2)"
   ]
  },
  {
   "cell_type": "code",
   "execution_count": 88,
   "metadata": {},
   "outputs": [
    {
     "data": {
      "text/plain": [
       "[2.839347013903663e-20,\n",
       " 2.227008083555099e-12,\n",
       " 2.50338280037507e-14,\n",
       " 2.954832069398546e-19,\n",
       " 3.1971687206120124e-18,\n",
       " 6.713430742256778e-16,\n",
       " 1.7122462261275235e-17,\n",
       " 1.464639220032688e-16,\n",
       " 1.9777671713227297e-17,\n",
       " 2.1221905175103404e-17]"
      ]
     },
     "execution_count": 88,
     "metadata": {},
     "output_type": "execute_result"
    }
   ],
   "source": [
    "pxici_test1_forc2"
   ]
  },
  {
   "cell_type": "code",
   "execution_count": 89,
   "metadata": {},
   "outputs": [],
   "source": [
    "# category 3 posterior probabilies"
   ]
  },
  {
   "cell_type": "code",
   "execution_count": 90,
   "metadata": {},
   "outputs": [],
   "source": [
    "pxici_test1_forc3 = posterior(x_test1,x_train3,pc3)"
   ]
  },
  {
   "cell_type": "code",
   "execution_count": 91,
   "metadata": {},
   "outputs": [
    {
     "data": {
      "text/plain": [
       "[1.461884529413257e-26,\n",
       " 6.27064112092e-20,\n",
       " 7.664925833016964e-21,\n",
       " 1.318627090706954e-26,\n",
       " 1.670651777452148e-25,\n",
       " 1.7157978232471066e-22,\n",
       " 7.502722300538422e-25,\n",
       " 7.987890491295956e-24,\n",
       " 2.685061948741485e-24,\n",
       " 1.0218825897596254e-24]"
      ]
     },
     "execution_count": 91,
     "metadata": {},
     "output_type": "execute_result"
    }
   ],
   "source": [
    "pxici_test1_forc3"
   ]
  },
  {
   "cell_type": "code",
   "execution_count": 92,
   "metadata": {},
   "outputs": [],
   "source": [
    "# def posterior_prob():\n",
    "#     pxici_prob = [0] * 10\n",
    "#     pxici_test1 = posterior(x_test1,x_train1,pc1)\n",
    "#     pxici_test1_forc2 = posterior(x_test1,x_train2,pc2)\n",
    "#     pxici_test1_forc3 = posterior(x_test1,x_train3,pc3)\n",
    "    \n",
    "#     for i in range(0,9):\n",
    "#         pxici_prob[i] = (pxici_test1[i] / (pxici_test1[i] + pxici_test1_forc2[i] + pxici_test1_forc3[i]) )\n",
    "        \n",
    "#     return pxici_prob"
   ]
  },
  {
   "cell_type": "code",
   "execution_count": 93,
   "metadata": {},
   "outputs": [],
   "source": [
    "# pp = posterior_prob()"
   ]
  },
  {
   "cell_type": "code",
   "execution_count": 94,
   "metadata": {},
   "outputs": [],
   "source": [
    "# pp"
   ]
  },
  {
   "cell_type": "code",
   "execution_count": null,
   "metadata": {},
   "outputs": [],
   "source": []
  },
  {
   "cell_type": "markdown",
   "metadata": {},
   "source": [
    "### For test set2 which is actually category 2"
   ]
  },
  {
   "cell_type": "code",
   "execution_count": 95,
   "metadata": {},
   "outputs": [
    {
     "data": {
      "text/plain": [
       "[1.6467490327569828e-96,\n",
       " 4.352955525672827e-105,\n",
       " 3.1519814545395903e-84,\n",
       " 2.529301018512303e-72,\n",
       " 3.948547196090143e-90,\n",
       " 2.1576956784073923e-140,\n",
       " 1.1948068015486925e-76,\n",
       " 1.1655720343942896e-60,\n",
       " 2.5507407142850838e-40,\n",
       " 1.589640252389459e-124]"
      ]
     },
     "execution_count": 95,
     "metadata": {},
     "output_type": "execute_result"
    }
   ],
   "source": [
    "# category 1 posterior probabilies\n",
    "pxici_test2_forc1 = posterior(x_test2,x_train1,pc1)\n",
    "pxici_test2_forc1"
   ]
  },
  {
   "cell_type": "code",
   "execution_count": 96,
   "metadata": {},
   "outputs": [
    {
     "data": {
      "text/plain": [
       "[0.36890340774039077,\n",
       " 0.9125426911980451,\n",
       " 1.3273480185317739,\n",
       " 0.9431238407768991,\n",
       " 1.5162323039760877,\n",
       " 0.016741059494412413,\n",
       " 0.2673967991407892,\n",
       " 0.1507882376066377,\n",
       " 0.0025519101674193073,\n",
       " 0.08206597319425923]"
      ]
     },
     "execution_count": 96,
     "metadata": {},
     "output_type": "execute_result"
    }
   ],
   "source": [
    "# category 2 posterior probabilies\n",
    "pxici_test2 = posterior(x_test2,x_train2,pc2)\n",
    "pxici_test2"
   ]
  },
  {
   "cell_type": "code",
   "execution_count": 97,
   "metadata": {},
   "outputs": [
    {
     "data": {
      "text/plain": [
       "[0.0002276941933619343,\n",
       " 0.0012417426215553832,\n",
       " 0.0001575546137075309,\n",
       " 2.545241597961816e-05,\n",
       " 0.0011026304489423352,\n",
       " 0.08315045147904677,\n",
       " 7.79850443040832e-06,\n",
       " 4.93944134909811e-07,\n",
       " 4.724087579456689e-10,\n",
       " 0.03564802491384609]"
      ]
     },
     "execution_count": 97,
     "metadata": {},
     "output_type": "execute_result"
    }
   ],
   "source": [
    "# category 3 posterior probabilies\n",
    "pxici_test2_forc3 = posterior(x_test2,x_train3,pc3)\n",
    "pxici_test2_forc3"
   ]
  },
  {
   "cell_type": "markdown",
   "metadata": {},
   "source": [
    "### For test set3 which is actually category 3"
   ]
  },
  {
   "cell_type": "code",
   "execution_count": null,
   "metadata": {},
   "outputs": [],
   "source": []
  },
  {
   "cell_type": "code",
   "execution_count": 98,
   "metadata": {},
   "outputs": [
    {
     "data": {
      "text/plain": [
       "[1.745305218933145e-183,\n",
       " 6.231315543569346e-148,\n",
       " 2.1891816604952067e-253,\n",
       " 4.448850521401839e-164,\n",
       " 2.945948327425377e-179,\n",
       " 8.363692747305667e-237,\n",
       " 9.169112435480475e-190,\n",
       " 1.9549364964881233e-238,\n",
       " 7.211446070599305e-246,\n",
       " 8.618838815801785e-119]"
      ]
     },
     "execution_count": 98,
     "metadata": {},
     "output_type": "execute_result"
    }
   ],
   "source": [
    "# category 1 posterior probabilies\n",
    "pxici_test3_forc1 = posterior(x_test3,x_train1,pc1)\n",
    "pxici_test3_forc1"
   ]
  },
  {
   "cell_type": "code",
   "execution_count": 99,
   "metadata": {},
   "outputs": [
    {
     "data": {
      "text/plain": [
       "[0.0011103688667588596,\n",
       " 0.026019511171449853,\n",
       " 7.046256201025926e-12,\n",
       " 0.0036216134482018394,\n",
       " 0.00021965274167711233,\n",
       " 2.6347022584896246e-09,\n",
       " 0.0011431719898528185,\n",
       " 2.384887098503131e-07,\n",
       " 2.763630902101601e-07,\n",
       " 0.018765837241277453]"
      ]
     },
     "execution_count": 99,
     "metadata": {},
     "output_type": "execute_result"
    }
   ],
   "source": [
    "# category 2 posterior probabilies\n",
    "pxici_test3_forc2 = posterior(x_test3,x_train2,pc2)\n",
    "pxici_test3_forc2"
   ]
  },
  {
   "cell_type": "code",
   "execution_count": 100,
   "metadata": {},
   "outputs": [
    {
     "data": {
      "text/plain": [
       "[0.48382731994605843,\n",
       " 0.1554286588224995,\n",
       " 0.1320133325943247,\n",
       " 0.13547399579818506,\n",
       " 0.6269754439889949,\n",
       " 0.3848504439601067,\n",
       " 0.46135237623511244,\n",
       " 0.17022648573294843,\n",
       " 0.12023912457836582,\n",
       " 0.00034780668595077246]"
      ]
     },
     "execution_count": 100,
     "metadata": {},
     "output_type": "execute_result"
    }
   ],
   "source": [
    "# category 3 posterior probabilies\n",
    "pxici_test3 = posterior(x_test3,x_train3,pc3)\n",
    "pxici_test3"
   ]
  },
  {
   "cell_type": "code",
   "execution_count": null,
   "metadata": {},
   "outputs": [],
   "source": []
  },
  {
   "cell_type": "code",
   "execution_count": 101,
   "metadata": {},
   "outputs": [],
   "source": [
    "def posterior_prob():\n",
    "    \n",
    "    pxici_prob1 = [0] * 10\n",
    "    pxici_prob2 = [0] * 10\n",
    "    pxici_prob3 = [0] * 10\n",
    "    \n",
    "    pxici_test3_forc1 = posterior(x_test3,x_train1,pc1)\n",
    "    pxici_test3_forc2 = posterior(x_test3,x_train2,pc2)\n",
    "    pxici_test3 = posterior(x_test3,x_train3,pc3)\n",
    "    \n",
    "    for i in range(0,10):\n",
    "        pxici_prob1[i] = (pxici_test3[i] / (pxici_test3_forc1[i] + pxici_test3_forc2[i] + pxici_test3[i]) )\n",
    "        pxici_prob2[i] = (pxici_test3_forc1[i] / (pxici_test3_forc1[i] + pxici_test3_forc2[i] + pxici_test3[i]) )\n",
    "        pxici_prob3[i] = (pxici_test3_forc2[i] / (pxici_test3_forc1[i] + pxici_test3_forc2[i] + pxici_test3[i]) )\n",
    "        \n",
    "    return pxici_prob1,pxici_prob2,pxici_prob3"
   ]
  },
  {
   "cell_type": "code",
   "execution_count": 102,
   "metadata": {},
   "outputs": [],
   "source": [
    "pp3,pp1,pp2 = posterior_prob()"
   ]
  },
  {
   "cell_type": "code",
   "execution_count": 103,
   "metadata": {},
   "outputs": [
    {
     "data": {
      "text/plain": [
       "[0.9977102854812602,\n",
       " 0.8566008619854502,\n",
       " 0.9999999999466247,\n",
       " 0.9739631360916168,\n",
       " 0.9996497856204201,\n",
       " 0.9999999931539583,\n",
       " 0.9975282529869958,\n",
       " 0.9999985989937188,\n",
       " 0.9999977015596548,\n",
       " 0.018196775417339786]"
      ]
     },
     "execution_count": 103,
     "metadata": {},
     "output_type": "execute_result"
    }
   ],
   "source": [
    "pp3"
   ]
  },
  {
   "cell_type": "code",
   "execution_count": 104,
   "metadata": {},
   "outputs": [
    {
     "data": {
      "text/plain": [
       "[0.002289714518739859,\n",
       " 0.14339913801454987,\n",
       " 5.337533764337944e-11,\n",
       " 0.026036863908383317,\n",
       " 0.00035021437957993937,\n",
       " 6.846041837294734e-09,\n",
       " 0.002471747013004245,\n",
       " 1.4010062811275653e-06,\n",
       " 2.298440345230262e-06,\n",
       " 0.9818032245826603]"
      ]
     },
     "execution_count": 104,
     "metadata": {},
     "output_type": "execute_result"
    }
   ],
   "source": [
    "pp2"
   ]
  },
  {
   "cell_type": "code",
   "execution_count": 105,
   "metadata": {},
   "outputs": [
    {
     "data": {
      "text/plain": [
       "[3.59902985310515e-183,\n",
       " 3.4342123945240877e-147,\n",
       " 1.6583034587163144e-252,\n",
       " 3.198411902076198e-163,\n",
       " 4.6970206603678476e-179,\n",
       " 2.173231919388003e-236,\n",
       " 1.9825298796217757e-189,\n",
       " 1.1484310148285123e-237,\n",
       " 5.997573186605049e-245,\n",
       " 4.5092599028298685e-117]"
      ]
     },
     "execution_count": 105,
     "metadata": {},
     "output_type": "execute_result"
    }
   ],
   "source": [
    "pp1"
   ]
  },
  {
   "cell_type": "code",
   "execution_count": 106,
   "metadata": {},
   "outputs": [],
   "source": [
    "# Performance Evaluation - Calculating prediction accuracy\n",
    "# correct_arr should always be greater than arr_2 and arr_3 which says correct prediction or categorization\n",
    "total_predict = 30\n",
    "\n",
    "def predict(correct_arr,arr_2,arr_3):\n",
    "    wrong_prediction = 0\n",
    "    for i in range(0,10):\n",
    "        if (correct_arr[i]<arr_2[i] or correct_arr[i]<arr_3[i]):\n",
    "            wrong_prediction = wrong_prediction + 1\n",
    "    return wrong_prediction"
   ]
  },
  {
   "cell_type": "code",
   "execution_count": 107,
   "metadata": {},
   "outputs": [
    {
     "data": {
      "text/plain": [
       "0"
      ]
     },
     "execution_count": 107,
     "metadata": {},
     "output_type": "execute_result"
    }
   ],
   "source": [
    "wrong_prediction1 = predict(pxici_test1,pxici_test1_forc2,pxici_test1_forc3)\n",
    "wrong_prediction1"
   ]
  },
  {
   "cell_type": "code",
   "execution_count": 108,
   "metadata": {},
   "outputs": [
    {
     "data": {
      "text/plain": [
       "1"
      ]
     },
     "execution_count": 108,
     "metadata": {},
     "output_type": "execute_result"
    }
   ],
   "source": [
    "wrong_prediction2 = predict(pxici_test2,pxici_test2_forc1,pxici_test2_forc3)\n",
    "wrong_prediction2"
   ]
  },
  {
   "cell_type": "code",
   "execution_count": 109,
   "metadata": {},
   "outputs": [
    {
     "data": {
      "text/plain": [
       "1"
      ]
     },
     "execution_count": 109,
     "metadata": {},
     "output_type": "execute_result"
    }
   ],
   "source": [
    "wrong_prediction3 = predict(pxici_test3,pxici_test3_forc2,pxici_test3_forc1)\n",
    "wrong_prediction3"
   ]
  },
  {
   "cell_type": "code",
   "execution_count": 110,
   "metadata": {},
   "outputs": [],
   "source": [
    "# prediction accuracy calculation\n",
    "accuracy_percent = ((total_predict - (wrong_prediction1+wrong_prediction2+wrong_prediction3)) / total_predict ) * 100"
   ]
  },
  {
   "cell_type": "code",
   "execution_count": 111,
   "metadata": {},
   "outputs": [
    {
     "data": {
      "text/plain": [
       "93.33333333333333"
      ]
     },
     "execution_count": 111,
     "metadata": {},
     "output_type": "execute_result"
    }
   ],
   "source": [
    "accuracy_percent"
   ]
  },
  {
   "cell_type": "code",
   "execution_count": 112,
   "metadata": {},
   "outputs": [],
   "source": [
    "# Challenging Task:\n",
    "# Generate some Iris samples based on the priori and likelihood that are estimated above"
   ]
  },
  {
   "cell_type": "code",
   "execution_count": 113,
   "metadata": {},
   "outputs": [],
   "source": [
    "from math import log\n",
    "from cmath import sqrt\n",
    "from math import pi\n",
    "from math import exp\n",
    "\n",
    "def sampling(for_category,likelihood):\n",
    "    \n",
    "#     rows, cols = (5,4)\n",
    "#     xij = [[0]*cols]*rows\n",
    "    tempxij = []\n",
    "     # mean and std for column 1 - C1\n",
    "    mean1 = np.mean(for_category[:,0])\n",
    "    std1 = np.std(for_category[:,0])\n",
    "\n",
    "    # mean std for column 2 - C2\n",
    "    mean2 = np.mean(for_category[:,1])\n",
    "    std2 = np.std(for_category[:,1])\n",
    "\n",
    "    # mean std for column 3 - C3\n",
    "    mean3 = np.mean(for_category[:,2])\n",
    "    std3 = np.std(for_category[:,2])\n",
    "\n",
    "    # mean std for column 4 - C4\n",
    "    mean4 = np.mean(for_category[:,3])\n",
    "    std4 = np.std(for_category[:,3])\n",
    "    \n",
    "    for x in range(0,5):\n",
    "        \n",
    "        for y in range(0,4):\n",
    "            if y == 0:\n",
    "                mean = mean1\n",
    "                std = std1\n",
    "            elif y == 1:\n",
    "                mean = mean2\n",
    "                std = std2\n",
    "            elif y == 2:\n",
    "                mean = mean3\n",
    "                std = std3\n",
    "            elif y == 3:\n",
    "                mean = mean4\n",
    "                std = std4\n",
    "            \n",
    "            tempx = mean + sqrt((-2 * (std**2) * (np.log(likelihood[x][y]) + np.log(sqrt(2 * pi * (std ** 2))))))\n",
    "            tempxij.append(tempx.real)\n",
    "            \n",
    "#         xij.append(tempxij)\n",
    "    return np.array(tempxij).reshape(5,4)\n",
    "    \n",
    "#     return xij\n"
   ]
  },
  {
   "cell_type": "code",
   "execution_count": 114,
   "metadata": {},
   "outputs": [
    {
     "data": {
      "text/plain": [
       "array([[1.12150363, 0.98133823, 2.26739825, 3.5387893 ],\n",
       "       [0.70113109, 0.81887271, 1.66347468, 3.5387893 ],\n",
       "       [1.12605426, 0.9798342 , 1.66347468, 3.37384136],\n",
       "       [1.03007627, 0.26767876, 2.26739825, 1.42884071],\n",
       "       [0.68153599, 0.81261678, 2.26739825, 3.5387893 ],\n",
       "       [1.12150363, 0.81261678, 2.26739825, 1.23820819],\n",
       "       [1.12605426, 0.81887271, 0.82487274, 3.5387893 ],\n",
       "       [1.03007627, 0.9798342 , 2.26739825, 3.5387893 ],\n",
       "       [0.19981262, 0.67497098, 0.7195212 , 3.37384136],\n",
       "       [0.68153599, 0.98133823, 2.26739825, 1.23820819],\n",
       "       [1.04266617, 0.53460702, 2.33021761, 3.5387893 ],\n",
       "       [0.89034554, 0.53460702, 2.33021761, 1.42884071],\n",
       "       [1.04266617, 0.68225692, 2.26739825, 3.5387893 ],\n",
       "       [0.89034554, 0.53460702, 2.33021761, 3.37384136],\n",
       "       [1.12605426, 0.98133823, 1.53253421, 1.23820819],\n",
       "       [0.68153599, 0.52727789, 0.7195212 , 1.23820819],\n",
       "       [0.11995963, 0.53460702, 0.28412454, 1.42884071],\n",
       "       [0.50917515, 0.92011396, 0.06798007, 3.5387893 ],\n",
       "       [1.12150363, 0.67497098, 2.26739825, 3.37384136],\n",
       "       [1.12150363, 0.9798342 , 2.33021761, 3.37384136],\n",
       "       [0.11289004, 0.38739068, 0.82487274, 3.5387893 ],\n",
       "       [1.12605426, 0.92011396, 2.33021761, 3.5387893 ],\n",
       "       [0.34100638, 0.01740146, 1.66347468, 3.37384136],\n",
       "       [0.49095253, 0.17395376, 2.33021761, 3.5387893 ],\n",
       "       [0.89034554, 0.98133823, 0.05315738, 3.5387893 ],\n",
       "       [0.89034554, 0.98133823, 1.53253421, 3.5387893 ],\n",
       "       [0.21061299, 0.53460702, 1.66347468, 3.5387893 ],\n",
       "       [0.68153599, 0.52727789, 1.66347468, 1.23820819],\n",
       "       [0.87249997, 0.81261678, 2.26739825, 3.5387893 ],\n",
       "       [1.12150363, 0.67497098, 1.53253421, 3.5387893 ],\n",
       "       [1.12605426, 0.92435753, 2.33021761, 3.5387893 ],\n",
       "       [0.21061299, 0.39398211, 2.33021761, 3.5387893 ],\n",
       "       [1.12605426, 0.9798342 , 1.53253421, 0.00951325],\n",
       "       [0.70113109, 0.81887271, 1.53253421, 3.5387893 ],\n",
       "       [1.12605426, 0.53460702, 1.53253421, 3.5387893 ],\n",
       "       [1.03007627, 0.98133823, 2.33021761, 3.5387893 ],\n",
       "       [1.12150363, 0.9798342 , 2.33021761, 3.5387893 ],\n",
       "       [0.19981262, 0.06111376, 2.26739825, 1.23820819],\n",
       "       [0.49095253, 0.9798342 , 1.66347468, 3.5387893 ],\n",
       "       [1.04266617, 0.68225692, 2.26739825, 1.42884071]])"
      ]
     },
     "execution_count": 114,
     "metadata": {},
     "output_type": "execute_result"
    }
   ],
   "source": [
    "# sampling(x_train1,3.1942374571539887)\n",
    "x_train1_xi"
   ]
  },
  {
   "cell_type": "code",
   "execution_count": 115,
   "metadata": {},
   "outputs": [],
   "source": [
    "# sampling(x_train1,0.13048061998572416)"
   ]
  },
  {
   "cell_type": "code",
   "execution_count": 116,
   "metadata": {},
   "outputs": [],
   "source": [
    "# sampling(x_train1,0.04982450674033518)"
   ]
  },
  {
   "cell_type": "code",
   "execution_count": 117,
   "metadata": {},
   "outputs": [],
   "source": [
    "# a = np.array(sampling(x_train1,pxici1))\n",
    "# b = a.reshape(5,4)\n",
    "# type(b)\n",
    "# b"
   ]
  },
  {
   "cell_type": "code",
   "execution_count": 118,
   "metadata": {},
   "outputs": [],
   "source": [
    "# sampling(x_train1,pxici1)"
   ]
  },
  {
   "cell_type": "code",
   "execution_count": 119,
   "metadata": {},
   "outputs": [],
   "source": [
    "# sampling(x_train2,pxici2)"
   ]
  },
  {
   "cell_type": "code",
   "execution_count": 120,
   "metadata": {},
   "outputs": [],
   "source": [
    "# sampling(x_train3,pxici3)"
   ]
  },
  {
   "cell_type": "code",
   "execution_count": 121,
   "metadata": {},
   "outputs": [],
   "source": [
    "# sampling(x_train1,0.04982450674033518)"
   ]
  },
  {
   "cell_type": "code",
   "execution_count": 122,
   "metadata": {},
   "outputs": [],
   "source": [
    "# sampling(x_train1,0.13048061998572416)"
   ]
  },
  {
   "cell_type": "code",
   "execution_count": 123,
   "metadata": {},
   "outputs": [
    {
     "data": {
      "text/plain": [
       "array([[5.1  , 3.495, 1.5  , 0.29 ],\n",
       "       [5.39 , 3.695, 1.585, 0.29 ],\n",
       "       [5.09 , 3.5  , 1.585, 0.3  ],\n",
       "       [5.2  , 4.1  , 1.5  , 0.39 ],\n",
       "       [5.4  , 3.7  , 1.5  , 0.29 ]])"
      ]
     },
     "execution_count": 123,
     "metadata": {},
     "output_type": "execute_result"
    }
   ],
   "source": [
    "sampling(x_train1,x_train1_xi)"
   ]
  },
  {
   "cell_type": "code",
   "execution_count": 124,
   "metadata": {},
   "outputs": [
    {
     "data": {
      "text/plain": [
       "array([[6.435, 3.08 , 4.54 , 1.36 ],\n",
       "       [6.9  , 3.1  , 4.9  , 1.5  ],\n",
       "       [6.435, 2.98 , 4.4  , 1.46 ],\n",
       "       [6.135, 2.88 , 4.64 , 1.46 ],\n",
       "       [6.935, 3.58 , 5.04 , 1.66 ]])"
      ]
     },
     "execution_count": 124,
     "metadata": {},
     "output_type": "execute_result"
    }
   ],
   "source": [
    "sampling(x_train2,x_train2_xi)"
   ]
  },
  {
   "cell_type": "code",
   "execution_count": 125,
   "metadata": {},
   "outputs": [
    {
     "data": {
      "text/plain": [
       "array([[6.9  , 3.1  , 5.75 , 2.1  ],\n",
       "       [7.1  , 3.   , 5.9  , 2.1  ],\n",
       "       [6.7  , 3.1  , 5.6  , 2.4  ],\n",
       "       [6.845, 3.18 , 5.6  , 2.2  ],\n",
       "       [6.745, 3.2  , 6.05 , 2.09 ]])"
      ]
     },
     "execution_count": 125,
     "metadata": {},
     "output_type": "execute_result"
    }
   ],
   "source": [
    "sampling(x_train3,x_train3_xi)"
   ]
  }
 ],
 "metadata": {
  "kernelspec": {
   "display_name": "Python 3",
   "language": "python",
   "name": "python3"
  },
  "language_info": {
   "codemirror_mode": {
    "name": "ipython",
    "version": 3
   },
   "file_extension": ".py",
   "mimetype": "text/x-python",
   "name": "python",
   "nbconvert_exporter": "python",
   "pygments_lexer": "ipython3",
   "version": "3.8.8"
  }
 },
 "nbformat": 4,
 "nbformat_minor": 4
}
